{
 "cells": [
  {
   "cell_type": "code",
   "execution_count": 2,
   "id": "e4c3ca58",
   "metadata": {
    "tags": []
   },
   "outputs": [],
   "source": [
    "import os\n",
    "\n",
    "import numpy as np\n",
    "import pandas as pd\n",
    "import matplotlib.pyplot as plt\n",
    "import copy"
   ]
  },
  {
   "cell_type": "code",
   "execution_count": 3,
   "id": "52a90ebe-f1be-4046-b0f9-eedd6f88844d",
   "metadata": {
    "tags": []
   },
   "outputs": [
    {
     "name": "stderr",
     "output_type": "stream",
     "text": [
      "2023-12-15 17:13:31.359818: I tensorflow/core/platform/cpu_feature_guard.cc:193] This TensorFlow binary is optimized with oneAPI Deep Neural Network Library (oneDNN) to use the following CPU instructions in performance-critical operations:  AVX512F AVX512_VNNI\n",
      "To enable them in other operations, rebuild TensorFlow with the appropriate compiler flags.\n",
      "2023-12-15 17:13:31.491405: W tensorflow/core/profiler/internal/smprofiler_timeline.cc:460] Initializing the SageMaker Profiler.\n",
      "2023-12-15 17:13:31.491522: W tensorflow/core/profiler/internal/smprofiler_timeline.cc:105] SageMaker Profiler is not enabled. The timeline writer thread will not be started, future recorded events will be dropped.\n",
      "2023-12-15 17:13:31.491708: I tensorflow/core/util/port.cc:104] oneDNN custom operations are on. You may see slightly different numerical results due to floating-point round-off errors from different computation orders. To turn them off, set the environment variable `TF_ENABLE_ONEDNN_OPTS=0`.\n",
      "2023-12-15 17:13:31.543331: W tensorflow/core/profiler/internal/smprofiler_timeline.cc:460] Initializing the SageMaker Profiler.\n"
     ]
    }
   ],
   "source": [
    "import keras"
   ]
  },
  {
   "cell_type": "code",
   "execution_count": 4,
   "id": "04315df1",
   "metadata": {
    "tags": []
   },
   "outputs": [],
   "source": [
    "from keras.models import Sequential"
   ]
  },
  {
   "cell_type": "code",
   "execution_count": 5,
   "id": "7ccedad0",
   "metadata": {
    "tags": []
   },
   "outputs": [],
   "source": [
    "from keras.layers import LSTM, Dense"
   ]
  },
  {
   "cell_type": "code",
   "execution_count": 6,
   "id": "f6114731",
   "metadata": {
    "tags": []
   },
   "outputs": [
    {
     "name": "stderr",
     "output_type": "stream",
     "text": [
      "/tmp/ipykernel_48/453259742.py:1: DtypeWarning: Columns (18,19,20,21,22,23,24,26) have mixed types. Specify dtype option on import or set low_memory=False.\n",
      "  df = pd.read_csv('./mimic3+4_with_and_without_bmi_with_gender_with_time_20231215.csv')\n"
     ]
    }
   ],
   "source": [
    "df = pd.read_csv('./mimic3+4_with_and_without_bmi_with_gender_with_time_20231215.csv')"
   ]
  },
  {
   "cell_type": "code",
   "execution_count": 7,
   "id": "0fcb1932",
   "metadata": {
    "tags": []
   },
   "outputs": [
    {
     "data": {
      "text/plain": [
       "subject_id                  int64\n",
       "hadm_id                   float64\n",
       "systolic                  float64\n",
       "diastolic                 float64\n",
       "glucose                   float64\n",
       "triglycerides             float64\n",
       "cholesterol               float64\n",
       "hemoglobin_chart          float64\n",
       "hemoglobin_lab            float64\n",
       "hemoglobin_any            float64\n",
       "insulin                   float64\n",
       "hemoglobina1c             float64\n",
       "TyG                       float64\n",
       "crp                       float64\n",
       "hypertension               object\n",
       "hypertension_drugs         object\n",
       "diabetes                   object\n",
       "bmi                       float64\n",
       "bmi_category               object\n",
       "glucose_category           object\n",
       "triglycerides_category     object\n",
       "cholesterol_category       object\n",
       "diastolic_category         object\n",
       "systolic_category          object\n",
       "BP_category                object\n",
       "crp_category               object\n",
       "hemoglobina1c_category     object\n",
       "gender                     object\n",
       "admittime                  object\n",
       "dischtime                  object\n",
       "abdominal_obese           float64\n",
       "dtype: object"
      ]
     },
     "execution_count": 7,
     "metadata": {},
     "output_type": "execute_result"
    }
   ],
   "source": [
    "df.dtypes"
   ]
  },
  {
   "cell_type": "code",
   "execution_count": 8,
   "id": "0bd26d4e",
   "metadata": {
    "tags": []
   },
   "outputs": [],
   "source": [
    "df = df[~df['admittime'].isna()]"
   ]
  },
  {
   "cell_type": "code",
   "execution_count": 15,
   "id": "a957c316-3bf1-4e45-881f-9842dba33aae",
   "metadata": {
    "tags": []
   },
   "outputs": [],
   "source": [
    "df_gender = copy.deepcopy(df) "
   ]
  },
  {
   "cell_type": "code",
   "execution_count": 16,
   "id": "d992f6ae-04ae-4ae5-9e90-6b3bf7c83a30",
   "metadata": {
    "tags": []
   },
   "outputs": [],
   "source": [
    "df_gender.loc[df_gender['abdominal_obese'] == 1, 'bmi_category'] = 'Obese'"
   ]
  },
  {
   "cell_type": "code",
   "execution_count": 17,
   "id": "6e472fc9-9ed9-490c-838c-86f7eff8a250",
   "metadata": {
    "tags": []
   },
   "outputs": [],
   "source": [
    "df_gender.drop('abdominal_obese', axis=1, inplace=True)"
   ]
  },
  {
   "cell_type": "code",
   "execution_count": 18,
   "id": "909d5deb-d209-43df-8614-d0356aa5fe45",
   "metadata": {
    "tags": []
   },
   "outputs": [],
   "source": [
    "# factorized hypertension_drungs\n",
    "drug_present_idx = df_gender[df_gender['hypertension_drugs'].notna() == True].index.tolist()\n",
    "df_gender.loc[drug_present_idx,'hypertension_drugs'] = 1"
   ]
  },
  {
   "cell_type": "code",
   "execution_count": 19,
   "id": "f157fa57-8bb6-46b4-8c42-a5e257c63e98",
   "metadata": {
    "tags": []
   },
   "outputs": [
    {
     "name": "stderr",
     "output_type": "stream",
     "text": [
      "/tmp/ipykernel_48/3673003545.py:2: FutureWarning: In a future version, the Index constructor will not infer numeric dtypes when passed object-dtype sequences (matching Series behavior)\n",
      "  df_gender['hypertension_drugs'], b = df_gender['hypertension_drugs'].factorize()\n"
     ]
    }
   ],
   "source": [
    "df_gender['hypertension'], a = df_gender['hypertension'].factorize()\n",
    "df_gender['hypertension_drugs'], b = df_gender['hypertension_drugs'].factorize()\n",
    "df_gender['diabetes'], c = df_gender['diabetes'].factorize()\n",
    "df_gender['glucose_category'], d = df_gender['glucose_category'].factorize()\n",
    "df_gender['triglycerides_category'], e = df_gender['triglycerides_category'].factorize()\n",
    "df_gender['cholesterol_category'], f = df_gender['cholesterol_category'].factorize()\n",
    "df_gender['diastolic_category'], g = df_gender['diastolic_category'].factorize()\n",
    "df_gender['systolic_category'], h = df_gender['systolic_category'].factorize()\n",
    "df_gender['BP_category'], i = df_gender['BP_category'].factorize()\n",
    "df_gender['hemoglobina1c_category'], j = df_gender['hemoglobina1c_category'].factorize()\n",
    "df_gender['gender'], k = df_gender['gender'].factorize()\n",
    "df_gender['crp_category'], l = df_gender['crp_category'].factorize()"
   ]
  },
  {
   "cell_type": "code",
   "execution_count": 20,
   "id": "e88a409f-bee1-410e-bdfc-a3bb3cbd6afc",
   "metadata": {
    "tags": []
   },
   "outputs": [
    {
     "name": "stdout",
     "output_type": "stream",
     "text": [
      "{0: True}\n",
      "{0: 1}\n",
      "{0: True}\n",
      "{0: 'Abnormal', 1: 'Normal'}\n",
      "{0: 'Abnormal', 1: 'Normal'}\n",
      "{0: 'Abnormal', 1: 'Normal'}\n",
      "{0: 'Normal', 1: 'Abnormal'}\n",
      "{0: 'Normal', 1: 'Abnormal'}\n",
      "{0: 'Normal', 1: 'Abnormal'}\n",
      "{0: 'Abnormal', 1: 'Normal'}\n",
      "{0: 'M', 1: 'F'}\n",
      "{0: 'Low risk', 1: 'High risk', 2: 'Intermediate risk'}\n"
     ]
    }
   ],
   "source": [
    "print(dict(enumerate(a)))\n",
    "print(dict(enumerate(b)))\n",
    "print(dict(enumerate(c)))\n",
    "print(dict(enumerate(d)))\n",
    "print(dict(enumerate(e)))\n",
    "print(dict(enumerate(f)))\n",
    "print(dict(enumerate(g)))\n",
    "print(dict(enumerate(h)))\n",
    "print(dict(enumerate(i)))\n",
    "print(dict(enumerate(j)))\n",
    "print(dict(enumerate(k)))\n",
    "print(dict(enumerate(l)))"
   ]
  },
  {
   "cell_type": "code",
   "execution_count": 21,
   "id": "716c7420-77cd-4211-818d-3aadcb087499",
   "metadata": {
    "tags": []
   },
   "outputs": [],
   "source": [
    "df_gender.fillna(0,inplace = True)\n",
    "df_gender.drop('bmi_category', axis=1, inplace=True)"
   ]
  },
  {
   "cell_type": "code",
   "execution_count": 22,
   "id": "6e2b0c37-0c2a-4149-abc7-577f158839c3",
   "metadata": {
    "tags": []
   },
   "outputs": [],
   "source": [
    "df_gender['admittime'] = pd.to_datetime(df_gender['admittime'])\n",
    "df_gender['dischtime'] = pd.to_datetime(df_gender['dischtime'])"
   ]
  },
  {
   "cell_type": "code",
   "execution_count": 23,
   "id": "0a890a6a-715a-446d-9c04-7173afbe100d",
   "metadata": {
    "tags": []
   },
   "outputs": [],
   "source": [
    "df_gender.sort_values(by=['subject_id', 'hadm_id', 'admittime'], inplace=True)"
   ]
  },
  {
   "cell_type": "code",
   "execution_count": 24,
   "id": "63afd429-7882-441e-bb1e-31724c3af8c1",
   "metadata": {
    "tags": []
   },
   "outputs": [
    {
     "data": {
      "text/plain": [
       "1     147193\n",
       "2      35935\n",
       "3      15182\n",
       "4       8138\n",
       "5       4936\n",
       "       ...  \n",
       "65         1\n",
       "90         1\n",
       "81         1\n",
       "59         1\n",
       "66         1\n",
       "Name: admittime, Length: 73, dtype: int64"
      ]
     },
     "execution_count": 24,
     "metadata": {},
     "output_type": "execute_result"
    }
   ],
   "source": [
    "df_gender.groupby('subject_id')['admittime'].nunique().value_counts()"
   ]
  },
  {
   "cell_type": "code",
   "execution_count": 25,
   "id": "3b841776-6424-44af-b002-46b1ef083aa6",
   "metadata": {
    "tags": []
   },
   "outputs": [],
   "source": [
    "df_withbmi = df[~df['bmi'].isna()]"
   ]
  },
  {
   "cell_type": "code",
   "execution_count": 26,
   "id": "2626bbb0-43b0-4d6a-be02-b4bd336f99b5",
   "metadata": {
    "tags": []
   },
   "outputs": [],
   "source": [
    "hadm_times = df_withbmi.groupby('subject_id')['admittime'].nunique().value_counts()"
   ]
  },
  {
   "cell_type": "markdown",
   "id": "faefa15a-e14a-4391-8594-07d9c5e890fb",
   "metadata": {},
   "source": [
    "The visit times for patients with bmi values:"
   ]
  },
  {
   "cell_type": "code",
   "execution_count": 27,
   "id": "d689e71b-d65c-4d45-9d10-7036030dff69",
   "metadata": {
    "tags": []
   },
   "outputs": [
    {
     "name": "stdout",
     "output_type": "stream",
     "text": [
      "1     35968\n",
      "2      3268\n",
      "3       693\n",
      "4       198\n",
      "5        86\n",
      "6        32\n",
      "7        25\n",
      "8        10\n",
      "9         7\n",
      "10        5\n",
      "15        1\n",
      "14        1\n",
      "11        1\n",
      "Name: admittime, dtype: int64\n"
     ]
    }
   ],
   "source": [
    "print(hadm_times)"
   ]
  },
  {
   "cell_type": "markdown",
   "id": "b97c4417-0be6-48b7-8933-a50e0e863aa7",
   "metadata": {},
   "source": [
    "Number of patients with bmi values who have visited more than 1 times:"
   ]
  },
  {
   "cell_type": "code",
   "execution_count": 28,
   "id": "e813ebff-84a6-4cfa-aace-88c1f657f77a",
   "metadata": {
    "tags": []
   },
   "outputs": [
    {
     "data": {
      "text/plain": [
       "4327"
      ]
     },
     "execution_count": 28,
     "metadata": {},
     "output_type": "execute_result"
    }
   ],
   "source": [
    "sum(hadm_times.values[1:])"
   ]
  },
  {
   "cell_type": "markdown",
   "id": "f5d28417-6903-43f0-ab35-305c1b17ebd6",
   "metadata": {},
   "source": [
    "Number of records for patients with bmi values who have visited more than 1 times:"
   ]
  },
  {
   "cell_type": "code",
   "execution_count": 29,
   "id": "449470f7-07db-473c-bcb0-9723b45ed388",
   "metadata": {
    "tags": []
   },
   "outputs": [
    {
     "data": {
      "text/plain": [
       "10437"
      ]
     },
     "execution_count": 29,
     "metadata": {},
     "output_type": "execute_result"
    }
   ],
   "source": [
    "len(df_withbmi)-35968"
   ]
  },
  {
   "cell_type": "code",
   "execution_count": 30,
   "id": "55249a99-bd58-4afd-9814-c5b6970f20ee",
   "metadata": {
    "tags": []
   },
   "outputs": [],
   "source": [
    "df_new_bmi = df_gender[df_gender['bmi']!=0]"
   ]
  },
  {
   "cell_type": "code",
   "execution_count": 79,
   "id": "ab072a33-d57d-4ceb-92b3-fd6eea3a96e2",
   "metadata": {
    "tags": []
   },
   "outputs": [],
   "source": [
    "visit_count = df_withbmi.groupby('subject_id')['admittime'].nunique().reset_index()"
   ]
  },
  {
   "cell_type": "code",
   "execution_count": 81,
   "id": "ba55d78b-21d1-493a-93c0-bcdfdf88e6d1",
   "metadata": {
    "tags": []
   },
   "outputs": [],
   "source": [
    "visit_count.columns = ['subject_id', 'visit_count']"
   ]
  },
  {
   "cell_type": "code",
   "execution_count": null,
   "id": "9dc78118-aed9-408a-b029-a726f4465428",
   "metadata": {},
   "outputs": [],
   "source": []
  },
  {
   "cell_type": "markdown",
   "id": "3311e65a-dd25-445c-8f66-0443963bfb40",
   "metadata": {},
   "source": [
    "### Create the sequences for LSTM modeling"
   ]
  },
  {
   "cell_type": "code",
   "execution_count": 32,
   "id": "40907187-31e1-4a0b-9d57-93ee4af20dab",
   "metadata": {
    "tags": []
   },
   "outputs": [],
   "source": [
    "from tensorflow.keras.preprocessing.sequence import pad_sequences\n",
    "\n",
    "def create_sequences(data, sequence_length):\n",
    "    data_size = len(data)\n",
    "    target = data.iloc[data_size-1]['bmi']\n",
    "    data = data.drop('bmi', axis=1)\n",
    "    if data_size < sequence_length:\n",
    "        seq = data[:data_size]\n",
    "    else:\n",
    "        seq = data[data_size-sequence_length:data_size]\n",
    "    return np.array(seq), target\n",
    "\n",
    "sequence_length = 5 "
   ]
  },
  {
   "cell_type": "code",
   "execution_count": 33,
   "id": "b6f19f3d-70c1-4bee-a01e-6f56b2fe7710",
   "metadata": {
    "tags": []
   },
   "outputs": [],
   "source": [
    "X = []\n",
    "y = []\n",
    "\n",
    "for patient_id in df_new_bmi['subject_id'].unique():\n",
    "    patient_data = df_new_bmi[df_new_bmi['subject_id'] == patient_id]\n",
    "    patient_data = patient_data.drop(['subject_id', 'hadm_id', 'admittime', 'dischtime'], axis=1)\n",
    "    seq, target = create_sequences(patient_data, sequence_length)\n",
    "    X.append(seq)\n",
    "    y.append(target)\n",
    "\n",
    "# Pad sequences\n",
    "X_padded = pad_sequences(X, maxlen=sequence_length, padding='pre', dtype='float', value=0.0)\n",
    "y = np.array(y)"
   ]
  },
  {
   "cell_type": "code",
   "execution_count": 38,
   "id": "6c49ebc8-308d-4e36-8b06-7a4f453b1199",
   "metadata": {
    "tags": []
   },
   "outputs": [
    {
     "data": {
      "text/plain": [
       "(40295, 5, 24)"
      ]
     },
     "execution_count": 38,
     "metadata": {},
     "output_type": "execute_result"
    }
   ],
   "source": [
    "X_padded.shape"
   ]
  },
  {
   "cell_type": "markdown",
   "id": "eced3340-b41a-4930-9c1f-6c58b3b5824c",
   "metadata": {},
   "source": [
    "### Normalization"
   ]
  },
  {
   "cell_type": "code",
   "execution_count": 40,
   "id": "6b2e0f60-81d4-4347-8b3a-53259a19fd96",
   "metadata": {
    "tags": []
   },
   "outputs": [],
   "source": [
    "from sklearn.preprocessing import MinMaxScaler\n",
    "\n",
    "# Flatten the 3D array to 2D for normalization\n",
    "n_samples, n_sequence, n_features = X_padded.shape\n",
    "X_flattened = X_padded.reshape(-1, n_features)\n",
    "\n",
    "# Normalize the data\n",
    "scaler = MinMaxScaler()\n",
    "X_flattened_scaled = scaler.fit_transform(X_flattened)\n",
    "\n",
    "# Reshape back to 3D\n",
    "X_scaled = X_flattened_scaled.reshape(n_samples, n_sequence, n_features)\n"
   ]
  },
  {
   "cell_type": "markdown",
   "id": "3f52f546-6e1b-460c-8e35-a860ec7e7ffd",
   "metadata": {},
   "source": [
    "### Train-Test split"
   ]
  },
  {
   "cell_type": "code",
   "execution_count": 43,
   "id": "85faf449-5a42-4194-80e5-c672205cf16f",
   "metadata": {
    "tags": []
   },
   "outputs": [],
   "source": [
    "from sklearn.model_selection import train_test_split\n",
    "\n",
    "# Split the data\n",
    "X_train, X_test, y_train, y_test = train_test_split(X_scaled, y, test_size=0.2, random_state=1000)\n"
   ]
  },
  {
   "cell_type": "markdown",
   "id": "e56e13ec-15a2-4ce1-a21c-9c3d5f236c9a",
   "metadata": {},
   "source": [
    "### Modeling"
   ]
  },
  {
   "cell_type": "code",
   "execution_count": 44,
   "id": "c357bf5d-3555-41c6-9ae3-778941af8677",
   "metadata": {
    "tags": []
   },
   "outputs": [
    {
     "name": "stderr",
     "output_type": "stream",
     "text": [
      "2023-12-15 17:54:27.803856: I tensorflow/compiler/xla/stream_executor/cuda/cuda_gpu_executor.cc:981] successful NUMA node read from SysFS had negative value (-1), but there must be at least one NUMA node, so returning NUMA node zero\n",
      "2023-12-15 17:54:27.813210: I tensorflow/compiler/xla/stream_executor/cuda/cuda_gpu_executor.cc:981] successful NUMA node read from SysFS had negative value (-1), but there must be at least one NUMA node, so returning NUMA node zero\n",
      "2023-12-15 17:54:27.814011: I tensorflow/compiler/xla/stream_executor/cuda/cuda_gpu_executor.cc:981] successful NUMA node read from SysFS had negative value (-1), but there must be at least one NUMA node, so returning NUMA node zero\n",
      "2023-12-15 17:54:27.814908: I tensorflow/core/platform/cpu_feature_guard.cc:193] This TensorFlow binary is optimized with oneAPI Deep Neural Network Library (oneDNN) to use the following CPU instructions in performance-critical operations:  AVX512F AVX512_VNNI\n",
      "To enable them in other operations, rebuild TensorFlow with the appropriate compiler flags.\n",
      "2023-12-15 17:54:27.815353: I tensorflow/compiler/xla/stream_executor/cuda/cuda_gpu_executor.cc:981] successful NUMA node read from SysFS had negative value (-1), but there must be at least one NUMA node, so returning NUMA node zero\n",
      "2023-12-15 17:54:27.815924: I tensorflow/compiler/xla/stream_executor/cuda/cuda_gpu_executor.cc:981] successful NUMA node read from SysFS had negative value (-1), but there must be at least one NUMA node, so returning NUMA node zero\n",
      "2023-12-15 17:54:27.816442: I tensorflow/compiler/xla/stream_executor/cuda/cuda_gpu_executor.cc:981] successful NUMA node read from SysFS had negative value (-1), but there must be at least one NUMA node, so returning NUMA node zero\n",
      "2023-12-15 17:54:28.588947: I tensorflow/compiler/xla/stream_executor/cuda/cuda_gpu_executor.cc:981] successful NUMA node read from SysFS had negative value (-1), but there must be at least one NUMA node, so returning NUMA node zero\n",
      "2023-12-15 17:54:28.589625: I tensorflow/compiler/xla/stream_executor/cuda/cuda_gpu_executor.cc:981] successful NUMA node read from SysFS had negative value (-1), but there must be at least one NUMA node, so returning NUMA node zero\n",
      "2023-12-15 17:54:28.590191: I tensorflow/compiler/xla/stream_executor/cuda/cuda_gpu_executor.cc:981] successful NUMA node read from SysFS had negative value (-1), but there must be at least one NUMA node, so returning NUMA node zero\n",
      "2023-12-15 17:54:28.590699: I tensorflow/core/common_runtime/gpu/gpu_device.cc:1613] Created device /job:localhost/replica:0/task:0/device:GPU:0 with 13825 MB memory:  -> device: 0, name: Tesla T4, pci bus id: 0000:00:1e.0, compute capability: 7.5\n"
     ]
    }
   ],
   "source": [
    "from tensorflow.keras.models import Sequential\n",
    "from tensorflow.keras.layers import LSTM, Dense, Dropout\n",
    "\n",
    "# LSTM model\n",
    "model = Sequential()\n",
    "model.add(LSTM(50, return_sequences=True, input_shape=(n_sequence, n_features)))\n",
    "model.add(Dropout(0.2))\n",
    "model.add(LSTM(50, return_sequences=False))\n",
    "model.add(Dropout(0.2))\n",
    "model.add(Dense(1))  # Predicting a single value\n",
    "\n",
    "# Compile the model\n",
    "model.compile(optimizer='adam', loss='mean_squared_error')\n"
   ]
  },
  {
   "cell_type": "code",
   "execution_count": 46,
   "id": "65395853-0de3-4506-8279-2ab35b5eb5ed",
   "metadata": {
    "tags": []
   },
   "outputs": [
    {
     "name": "stdout",
     "output_type": "stream",
     "text": [
      "Model: \"sequential\"\n",
      "_________________________________________________________________\n",
      " Layer (type)                Output Shape              Param #   \n",
      "=================================================================\n",
      " lstm (LSTM)                 (None, 5, 50)             15000     \n",
      "                                                                 \n",
      " dropout (Dropout)           (None, 5, 50)             0         \n",
      "                                                                 \n",
      " lstm_1 (LSTM)               (None, 50)                20200     \n",
      "                                                                 \n",
      " dropout_1 (Dropout)         (None, 50)                0         \n",
      "                                                                 \n",
      " dense (Dense)               (None, 1)                 51        \n",
      "                                                                 \n",
      "=================================================================\n",
      "Total params: 35,251\n",
      "Trainable params: 35,251\n",
      "Non-trainable params: 0\n",
      "_________________________________________________________________\n"
     ]
    }
   ],
   "source": [
    "model.summary()"
   ]
  },
  {
   "cell_type": "code",
   "execution_count": 47,
   "id": "68fbaf43-11ac-4a75-bc61-4a1f272fa33c",
   "metadata": {
    "tags": []
   },
   "outputs": [
    {
     "name": "stdout",
     "output_type": "stream",
     "text": [
      "Epoch 1/100\n"
     ]
    },
    {
     "name": "stderr",
     "output_type": "stream",
     "text": [
      "2023-12-15 17:56:06.009246: I tensorflow/compiler/xla/stream_executor/cuda/cuda_dnn.cc:428] Loaded cuDNN version 8204\n",
      "2023-12-15 17:56:07.012537: I tensorflow/compiler/xla/service/service.cc:173] XLA service 0x55618dbe6c70 initialized for platform CUDA (this does not guarantee that XLA will be used). Devices:\n",
      "2023-12-15 17:56:07.012574: I tensorflow/compiler/xla/service/service.cc:181]   StreamExecutor device (0): Tesla T4, Compute Capability 7.5\n",
      "2023-12-15 17:56:07.017050: I tensorflow/compiler/mlir/tensorflow/utils/dump_mlir_util.cc:268] disabling MLIR crash reproducer, set env var `MLIR_CRASH_REPRODUCER_DIRECTORY` to enable.\n",
      "2023-12-15 17:56:07.211620: I tensorflow/compiler/jit/xla_compilation_cache.cc:477] Compiled cluster using XLA!  This line is logged at most once for the lifetime of the process.\n"
     ]
    },
    {
     "name": "stdout",
     "output_type": "stream",
     "text": [
      "907/907 [==============================] - 11s 6ms/step - loss: 132.5871 - val_loss: 57.1500\n",
      "Epoch 2/100\n",
      "907/907 [==============================] - 4s 4ms/step - loss: 59.3887 - val_loss: 57.0047\n",
      "Epoch 3/100\n",
      "907/907 [==============================] - 4s 4ms/step - loss: 59.9433 - val_loss: 57.0218\n",
      "Epoch 4/100\n",
      "907/907 [==============================] - 4s 5ms/step - loss: 59.5120 - val_loss: 57.0981\n",
      "Epoch 5/100\n",
      "907/907 [==============================] - 4s 4ms/step - loss: 59.7047 - val_loss: 57.1336\n",
      "Epoch 6/100\n",
      "907/907 [==============================] - 4s 4ms/step - loss: 59.6045 - val_loss: 57.1521\n",
      "Epoch 7/100\n",
      "907/907 [==============================] - 4s 4ms/step - loss: 59.0853 - val_loss: 56.5264\n",
      "Epoch 8/100\n",
      "907/907 [==============================] - 4s 5ms/step - loss: 57.3363 - val_loss: 54.4998\n",
      "Epoch 9/100\n",
      "907/907 [==============================] - 4s 5ms/step - loss: 56.7067 - val_loss: 54.2971\n",
      "Epoch 10/100\n",
      "907/907 [==============================] - 4s 5ms/step - loss: 56.2958 - val_loss: 54.6753\n",
      "Epoch 11/100\n",
      "907/907 [==============================] - 4s 5ms/step - loss: 56.6574 - val_loss: 54.2040\n",
      "Epoch 12/100\n",
      "907/907 [==============================] - 4s 5ms/step - loss: 56.4162 - val_loss: 54.1652\n",
      "Epoch 13/100\n",
      "907/907 [==============================] - 4s 5ms/step - loss: 56.0386 - val_loss: 54.0306\n",
      "Epoch 14/100\n",
      "907/907 [==============================] - 4s 5ms/step - loss: 56.2191 - val_loss: 54.1962\n",
      "Epoch 15/100\n",
      "907/907 [==============================] - 4s 5ms/step - loss: 56.1962 - val_loss: 54.0303\n",
      "Epoch 16/100\n",
      "907/907 [==============================] - 4s 5ms/step - loss: 56.0904 - val_loss: 53.8688\n",
      "Epoch 17/100\n",
      "907/907 [==============================] - 4s 5ms/step - loss: 55.8744 - val_loss: 54.2948\n",
      "Epoch 18/100\n",
      "907/907 [==============================] - 4s 5ms/step - loss: 55.9072 - val_loss: 54.3163\n",
      "Epoch 19/100\n",
      "907/907 [==============================] - 5s 5ms/step - loss: 55.4854 - val_loss: 53.7525\n",
      "Epoch 20/100\n",
      "907/907 [==============================] - 4s 5ms/step - loss: 55.7173 - val_loss: 54.4033\n",
      "Epoch 21/100\n",
      "907/907 [==============================] - 4s 5ms/step - loss: 55.5891 - val_loss: 53.7601\n",
      "Epoch 22/100\n",
      "907/907 [==============================] - 4s 5ms/step - loss: 55.0352 - val_loss: 54.4717\n",
      "Epoch 23/100\n",
      "907/907 [==============================] - 5s 5ms/step - loss: 55.3167 - val_loss: 53.8733\n",
      "Epoch 24/100\n",
      "907/907 [==============================] - 5s 5ms/step - loss: 55.1814 - val_loss: 53.6747\n",
      "Epoch 25/100\n",
      "907/907 [==============================] - 5s 5ms/step - loss: 55.4967 - val_loss: 53.5900\n",
      "Epoch 26/100\n",
      "907/907 [==============================] - 4s 5ms/step - loss: 55.1455 - val_loss: 53.7996\n",
      "Epoch 27/100\n",
      "907/907 [==============================] - 4s 5ms/step - loss: 55.3276 - val_loss: 53.7248\n",
      "Epoch 28/100\n",
      "907/907 [==============================] - 4s 5ms/step - loss: 54.7335 - val_loss: 53.7901\n",
      "Epoch 29/100\n",
      "907/907 [==============================] - 4s 5ms/step - loss: 55.1083 - val_loss: 53.6905\n",
      "Epoch 30/100\n",
      "907/907 [==============================] - 4s 5ms/step - loss: 55.2583 - val_loss: 54.1568\n",
      "Epoch 31/100\n",
      "907/907 [==============================] - 4s 5ms/step - loss: 54.8999 - val_loss: 53.8148\n",
      "Epoch 32/100\n",
      "907/907 [==============================] - 4s 5ms/step - loss: 54.8753 - val_loss: 53.8689\n",
      "Epoch 33/100\n",
      "907/907 [==============================] - 4s 5ms/step - loss: 54.5891 - val_loss: 53.8242\n",
      "Epoch 34/100\n",
      "907/907 [==============================] - 4s 5ms/step - loss: 55.1369 - val_loss: 53.7715\n",
      "Epoch 35/100\n",
      "907/907 [==============================] - 4s 5ms/step - loss: 54.7205 - val_loss: 53.7133\n",
      "Epoch 36/100\n",
      "907/907 [==============================] - 4s 5ms/step - loss: 54.6437 - val_loss: 53.6656\n",
      "Epoch 37/100\n",
      "907/907 [==============================] - 4s 5ms/step - loss: 54.6788 - val_loss: 53.9934\n",
      "Epoch 38/100\n",
      "907/907 [==============================] - 4s 5ms/step - loss: 54.7866 - val_loss: 54.2434\n",
      "Epoch 39/100\n",
      "907/907 [==============================] - 4s 5ms/step - loss: 54.5525 - val_loss: 53.9872\n",
      "Epoch 40/100\n",
      "907/907 [==============================] - 4s 5ms/step - loss: 54.5300 - val_loss: 53.8499\n",
      "Epoch 41/100\n",
      "907/907 [==============================] - 4s 5ms/step - loss: 54.3417 - val_loss: 54.4209\n",
      "Epoch 42/100\n",
      "907/907 [==============================] - 4s 5ms/step - loss: 54.5046 - val_loss: 54.0744\n",
      "Epoch 43/100\n",
      "907/907 [==============================] - 4s 5ms/step - loss: 54.7711 - val_loss: 53.9270\n",
      "Epoch 44/100\n",
      "907/907 [==============================] - 4s 5ms/step - loss: 54.5293 - val_loss: 53.7621\n",
      "Epoch 45/100\n",
      "907/907 [==============================] - 4s 5ms/step - loss: 54.5296 - val_loss: 54.2635\n",
      "Epoch 46/100\n",
      "907/907 [==============================] - 4s 5ms/step - loss: 54.3395 - val_loss: 53.9740\n",
      "Epoch 47/100\n",
      "907/907 [==============================] - 4s 5ms/step - loss: 54.3944 - val_loss: 53.7372\n",
      "Epoch 48/100\n",
      "907/907 [==============================] - 4s 5ms/step - loss: 54.4273 - val_loss: 54.3030\n",
      "Epoch 49/100\n",
      "907/907 [==============================] - 4s 5ms/step - loss: 54.4469 - val_loss: 53.9889\n",
      "Epoch 50/100\n",
      "907/907 [==============================] - 4s 5ms/step - loss: 54.0638 - val_loss: 53.7646\n",
      "Epoch 51/100\n",
      "907/907 [==============================] - 4s 5ms/step - loss: 54.4419 - val_loss: 54.1349\n",
      "Epoch 52/100\n",
      "907/907 [==============================] - 4s 5ms/step - loss: 54.0957 - val_loss: 54.4370\n",
      "Epoch 53/100\n",
      "907/907 [==============================] - 4s 5ms/step - loss: 54.3675 - val_loss: 53.6236\n",
      "Epoch 54/100\n",
      "907/907 [==============================] - 4s 5ms/step - loss: 53.9295 - val_loss: 54.0372\n",
      "Epoch 55/100\n",
      "907/907 [==============================] - 4s 5ms/step - loss: 54.0437 - val_loss: 53.7966\n",
      "Epoch 56/100\n",
      "907/907 [==============================] - 4s 5ms/step - loss: 54.0866 - val_loss: 53.7285\n",
      "Epoch 57/100\n",
      "907/907 [==============================] - 4s 5ms/step - loss: 53.7297 - val_loss: 53.8383\n",
      "Epoch 58/100\n",
      "907/907 [==============================] - 4s 5ms/step - loss: 53.9576 - val_loss: 53.7488\n",
      "Epoch 59/100\n",
      "907/907 [==============================] - 4s 5ms/step - loss: 53.7344 - val_loss: 53.9668\n",
      "Epoch 60/100\n",
      "907/907 [==============================] - 4s 5ms/step - loss: 53.7136 - val_loss: 54.2600\n",
      "Epoch 61/100\n",
      "907/907 [==============================] - 4s 5ms/step - loss: 53.7180 - val_loss: 53.9278\n",
      "Epoch 62/100\n",
      "907/907 [==============================] - 4s 5ms/step - loss: 53.6957 - val_loss: 53.7840\n",
      "Epoch 63/100\n",
      "907/907 [==============================] - 4s 5ms/step - loss: 53.6023 - val_loss: 54.5335\n",
      "Epoch 64/100\n",
      "907/907 [==============================] - 4s 5ms/step - loss: 53.5396 - val_loss: 54.5061\n",
      "Epoch 65/100\n",
      "907/907 [==============================] - 4s 5ms/step - loss: 53.4090 - val_loss: 54.0312\n",
      "Epoch 66/100\n",
      "907/907 [==============================] - 4s 5ms/step - loss: 53.5700 - val_loss: 53.8450\n",
      "Epoch 67/100\n",
      "907/907 [==============================] - 4s 5ms/step - loss: 53.7156 - val_loss: 53.7094\n",
      "Epoch 68/100\n",
      "907/907 [==============================] - 4s 5ms/step - loss: 53.2410 - val_loss: 54.1838\n",
      "Epoch 69/100\n",
      "907/907 [==============================] - 5s 5ms/step - loss: 53.3614 - val_loss: 54.0769\n",
      "Epoch 70/100\n",
      "907/907 [==============================] - 4s 5ms/step - loss: 53.3750 - val_loss: 53.7101\n",
      "Epoch 71/100\n",
      "907/907 [==============================] - 4s 5ms/step - loss: 53.3819 - val_loss: 53.8087\n",
      "Epoch 72/100\n",
      "907/907 [==============================] - 4s 5ms/step - loss: 53.4702 - val_loss: 53.9075\n",
      "Epoch 73/100\n",
      "907/907 [==============================] - 4s 5ms/step - loss: 53.1787 - val_loss: 53.8299\n",
      "Epoch 74/100\n",
      "907/907 [==============================] - 4s 5ms/step - loss: 53.0861 - val_loss: 53.7049\n",
      "Epoch 75/100\n",
      "907/907 [==============================] - 4s 5ms/step - loss: 53.4057 - val_loss: 53.9916\n",
      "Epoch 76/100\n",
      "907/907 [==============================] - 4s 5ms/step - loss: 53.0295 - val_loss: 53.7260\n",
      "Epoch 77/100\n",
      "907/907 [==============================] - 4s 5ms/step - loss: 53.2048 - val_loss: 53.7382\n",
      "Epoch 78/100\n",
      "907/907 [==============================] - 4s 5ms/step - loss: 53.1860 - val_loss: 54.6387\n",
      "Epoch 79/100\n",
      "907/907 [==============================] - 4s 5ms/step - loss: 53.1474 - val_loss: 54.2648\n",
      "Epoch 80/100\n",
      "907/907 [==============================] - 4s 5ms/step - loss: 53.0518 - val_loss: 53.8399\n",
      "Epoch 81/100\n",
      "907/907 [==============================] - 4s 5ms/step - loss: 52.6812 - val_loss: 54.1018\n",
      "Epoch 82/100\n",
      "907/907 [==============================] - 4s 5ms/step - loss: 52.9475 - val_loss: 53.8455\n",
      "Epoch 83/100\n",
      "907/907 [==============================] - 4s 5ms/step - loss: 52.8495 - val_loss: 53.9230\n",
      "Epoch 84/100\n",
      "907/907 [==============================] - 4s 5ms/step - loss: 52.8370 - val_loss: 54.1909\n",
      "Epoch 85/100\n",
      "907/907 [==============================] - 4s 5ms/step - loss: 52.9777 - val_loss: 53.8933\n",
      "Epoch 86/100\n",
      "907/907 [==============================] - 4s 5ms/step - loss: 52.7110 - val_loss: 54.6352\n",
      "Epoch 87/100\n",
      "907/907 [==============================] - 4s 5ms/step - loss: 52.6606 - val_loss: 53.7607\n",
      "Epoch 88/100\n",
      "907/907 [==============================] - 4s 5ms/step - loss: 52.7756 - val_loss: 54.3607\n",
      "Epoch 89/100\n",
      "907/907 [==============================] - 4s 5ms/step - loss: 52.5580 - val_loss: 53.9326\n",
      "Epoch 90/100\n",
      "907/907 [==============================] - 5s 5ms/step - loss: 52.6660 - val_loss: 53.7059\n",
      "Epoch 91/100\n",
      "907/907 [==============================] - 4s 5ms/step - loss: 52.8204 - val_loss: 54.0568\n",
      "Epoch 92/100\n",
      "907/907 [==============================] - 4s 5ms/step - loss: 52.6517 - val_loss: 53.9225\n",
      "Epoch 93/100\n",
      "907/907 [==============================] - 4s 5ms/step - loss: 52.7068 - val_loss: 53.7265\n",
      "Epoch 94/100\n",
      "907/907 [==============================] - 4s 5ms/step - loss: 52.5071 - val_loss: 54.2178\n",
      "Epoch 95/100\n",
      "907/907 [==============================] - 4s 5ms/step - loss: 52.6884 - val_loss: 54.0306\n",
      "Epoch 96/100\n",
      "907/907 [==============================] - 4s 5ms/step - loss: 52.7577 - val_loss: 54.1324\n",
      "Epoch 97/100\n",
      "907/907 [==============================] - 4s 5ms/step - loss: 52.4188 - val_loss: 54.2405\n",
      "Epoch 98/100\n",
      "907/907 [==============================] - 5s 5ms/step - loss: 52.3127 - val_loss: 54.3458\n",
      "Epoch 99/100\n",
      "907/907 [==============================] - 4s 5ms/step - loss: 52.4376 - val_loss: 54.0494\n",
      "Epoch 100/100\n",
      "907/907 [==============================] - 4s 5ms/step - loss: 52.0972 - val_loss: 53.8655\n"
     ]
    }
   ],
   "source": [
    "history = model.fit(X_train, y_train, epochs=100, batch_size=32, validation_split=0.1, verbose=1)"
   ]
  },
  {
   "cell_type": "code",
   "execution_count": 48,
   "id": "01703243-e90d-4fdf-91ee-bf142cfd94ca",
   "metadata": {
    "tags": []
   },
   "outputs": [
    {
     "name": "stdout",
     "output_type": "stream",
     "text": [
      "252/252 [==============================] - 1s 2ms/step - loss: 52.8474\n",
      "Test Loss: 52.847373962402344\n"
     ]
    }
   ],
   "source": [
    "test_loss = model.evaluate(X_test, y_test)\n",
    "print('Test Loss:', test_loss)\n"
   ]
  },
  {
   "cell_type": "code",
   "execution_count": 49,
   "id": "d0127de2-ee13-4208-acef-13609576c7f1",
   "metadata": {
    "tags": []
   },
   "outputs": [
    {
     "name": "stdout",
     "output_type": "stream",
     "text": [
      "252/252 [==============================] - 1s 2ms/step\n"
     ]
    }
   ],
   "source": [
    "predictions = model.predict(X_test)"
   ]
  },
  {
   "cell_type": "code",
   "execution_count": 50,
   "id": "3ee9fc40-b5d2-4cf2-8e25-d04ac2bc6a9a",
   "metadata": {
    "tags": []
   },
   "outputs": [
    {
     "data": {
      "text/plain": [
       "array([[32.48755 ],\n",
       "       [27.795982],\n",
       "       [30.753117],\n",
       "       ...,\n",
       "       [29.315521],\n",
       "       [32.281384],\n",
       "       [32.63462 ]], dtype=float32)"
      ]
     },
     "execution_count": 50,
     "metadata": {},
     "output_type": "execute_result"
    }
   ],
   "source": [
    "predictions"
   ]
  },
  {
   "cell_type": "code",
   "execution_count": 51,
   "id": "be821071-93fc-406c-aa44-22ef3c8b3416",
   "metadata": {
    "tags": []
   },
   "outputs": [
    {
     "data": {
      "text/plain": [
       "array([27.1745267 , 27.90357925, 24.1794799 , ..., 24.65051903,\n",
       "       39.23265306, 21.43902536])"
      ]
     },
     "execution_count": 51,
     "metadata": {},
     "output_type": "execute_result"
    }
   ],
   "source": [
    "y_test"
   ]
  },
  {
   "cell_type": "code",
   "execution_count": 53,
   "id": "86d67a71-3d68-4a88-b247-6980b5e1f6a0",
   "metadata": {
    "tags": []
   },
   "outputs": [
    {
     "data": {
      "image/png": "[encoded data removed]",
      "text/plain": [
       "<Figure size 640x480 with 1 Axes>"
      ]
     },
     "metadata": {},
     "output_type": "display_data"
    }
   ],
   "source": [
    "import matplotlib.pyplot as plt\n",
    "\n",
    "# Assuming 'history' is the output of the model.fit() process\n",
    "plt.plot(history.history['loss'], label='Training loss')\n",
    "plt.plot(history.history['val_loss'], label='Validation loss')\n",
    "plt.title('Model Loss Over Epochs')\n",
    "plt.ylabel('Loss')\n",
    "plt.xlabel('Epoch')\n",
    "plt.legend()\n",
    "plt.show()\n"
   ]
  },
  {
   "cell_type": "code",
   "execution_count": 56,
   "id": "917fc34a-35fe-46fb-89be-59e9878198e5",
   "metadata": {
    "tags": []
   },
   "outputs": [
    {
     "data": {
      "image/png": "[encoded data removed]",
      "text/plain": [
       "<Figure size 640x480 with 1 Axes>"
      ]
     },
     "metadata": {},
     "output_type": "display_data"
    }
   ],
   "source": [
    "import matplotlib.pyplot as plt\n",
    "\n",
    "# Scatter plot of actual vs. predicted values\n",
    "plt.scatter(y_test, predictions, alpha=0.5)  # alpha for transparency\n",
    "\n",
    "# Add the y=x line\n",
    "plt.plot([y_test.min(), y_test.max()], [y_test.min(), y_test.max()], 'k--', lw=2)\n",
    "# 'k--' indicates a black dashed line and 'lw' is the line width\n",
    "\n",
    "plt.title('Actual vs. Predicted Values')\n",
    "plt.xlabel('Actual Values')\n",
    "plt.ylabel('Predicted Values')\n",
    "plt.show()\n",
    "\n"
   ]
  },
  {
   "cell_type": "markdown",
   "id": "194ad4f1-24b9-46d0-ab37-4c63f2c53ff2",
   "metadata": {},
   "source": [
    "## Set the sequence length as 2 and train again"
   ]
  },
  {
   "cell_type": "code",
   "execution_count": 58,
   "id": "a3faaf9b-648c-4aea-a3cb-1c16d0c79349",
   "metadata": {
    "tags": []
   },
   "outputs": [],
   "source": [
    "from tensorflow.keras.preprocessing.sequence import pad_sequences\n",
    "\n",
    "def create_sequences(data, sequence_length):\n",
    "    data_size = len(data)\n",
    "    target = data.iloc[data_size-1]['bmi']\n",
    "    data = data.drop('bmi', axis=1)\n",
    "    if data_size < sequence_length:\n",
    "        seq = data[:data_size]\n",
    "    else:\n",
    "        seq = data[data_size-sequence_length:data_size]\n",
    "    return np.array(seq), target\n",
    "\n",
    "sequence_length = 2"
   ]
  },
  {
   "cell_type": "code",
   "execution_count": 59,
   "id": "94b5bd2f-4f98-4b8c-8984-438532c5f4f1",
   "metadata": {
    "tags": []
   },
   "outputs": [],
   "source": [
    "X = []\n",
    "y = []\n",
    "\n",
    "for patient_id in df_new_bmi['subject_id'].unique():\n",
    "    patient_data = df_new_bmi[df_new_bmi['subject_id'] == patient_id]\n",
    "    patient_data = patient_data.drop(['subject_id', 'hadm_id', 'admittime', 'dischtime'], axis=1)\n",
    "    seq, target = create_sequences(patient_data, sequence_length)\n",
    "    X.append(seq)\n",
    "    y.append(target)\n",
    "\n",
    "# Pad sequences\n",
    "X_padded = pad_sequences(X, maxlen=sequence_length, padding='pre', dtype='float', value=0.0)\n",
    "y = np.array(y)"
   ]
  },
  {
   "cell_type": "code",
   "execution_count": 60,
   "id": "5ad007f1-6a41-41ec-8a99-2502c6f53f4c",
   "metadata": {
    "tags": []
   },
   "outputs": [
    {
     "data": {
      "text/plain": [
       "(40295, 2, 24)"
      ]
     },
     "execution_count": 60,
     "metadata": {},
     "output_type": "execute_result"
    }
   ],
   "source": [
    "X_padded.shape"
   ]
  },
  {
   "cell_type": "markdown",
   "id": "b2d8603d-119a-44ed-a675-bc2fa5eecf49",
   "metadata": {},
   "source": [
    "### Normalization"
   ]
  },
  {
   "cell_type": "code",
   "execution_count": 61,
   "id": "a73839b6-cce3-4fb1-b364-6b6c84a187ff",
   "metadata": {
    "tags": []
   },
   "outputs": [],
   "source": [
    "from sklearn.preprocessing import MinMaxScaler\n",
    "\n",
    "# Flatten the 3D array to 2D for normalization\n",
    "n_samples, n_sequence, n_features = X_padded.shape\n",
    "X_flattened = X_padded.reshape(-1, n_features)\n",
    "\n",
    "# Normalize the data\n",
    "scaler = MinMaxScaler()\n",
    "X_flattened_scaled = scaler.fit_transform(X_flattened)\n",
    "\n",
    "# Reshape back to 3D\n",
    "X_scaled = X_flattened_scaled.reshape(n_samples, n_sequence, n_features)\n"
   ]
  },
  {
   "cell_type": "markdown",
   "id": "c48f76fa-dd26-42a1-a56e-8edab4053746",
   "metadata": {},
   "source": [
    "### Train-Test split"
   ]
  },
  {
   "cell_type": "code",
   "execution_count": 62,
   "id": "798c64b1-bf76-4cfe-a347-79d3524ac55c",
   "metadata": {
    "tags": []
   },
   "outputs": [],
   "source": [
    "from sklearn.model_selection import train_test_split\n",
    "\n",
    "# Split the data\n",
    "X_train, X_test, y_train, y_test = train_test_split(X_scaled, y, test_size=0.2, random_state=1000)\n"
   ]
  },
  {
   "cell_type": "markdown",
   "id": "d841762d-97fa-4950-beda-17eda03783a3",
   "metadata": {},
   "source": [
    "### Modeling"
   ]
  },
  {
   "cell_type": "code",
   "execution_count": 63,
   "id": "ec18c4ee-88e2-4309-8359-6f8f6265f448",
   "metadata": {
    "tags": []
   },
   "outputs": [],
   "source": [
    "from tensorflow.keras.models import Sequential\n",
    "from tensorflow.keras.layers import LSTM, Dense, Dropout\n",
    "\n",
    "# LSTM model\n",
    "model = Sequential()\n",
    "model.add(LSTM(50, return_sequences=True, input_shape=(n_sequence, n_features)))\n",
    "model.add(Dropout(0.2))\n",
    "model.add(LSTM(50, return_sequences=False))\n",
    "model.add(Dropout(0.2))\n",
    "model.add(Dense(1))  # Predicting a single value\n",
    "\n",
    "# Compile the model\n",
    "model.compile(optimizer='adam', loss='mean_squared_error')\n"
   ]
  },
  {
   "cell_type": "code",
   "execution_count": 64,
   "id": "92507039-c332-45ef-b576-3b70a3296c99",
   "metadata": {
    "tags": []
   },
   "outputs": [
    {
     "name": "stdout",
     "output_type": "stream",
     "text": [
      "Model: \"sequential_1\"\n",
      "_________________________________________________________________\n",
      " Layer (type)                Output Shape              Param #   \n",
      "=================================================================\n",
      " lstm_2 (LSTM)               (None, 2, 50)             15000     \n",
      "                                                                 \n",
      " dropout_2 (Dropout)         (None, 2, 50)             0         \n",
      "                                                                 \n",
      " lstm_3 (LSTM)               (None, 50)                20200     \n",
      "                                                                 \n",
      " dropout_3 (Dropout)         (None, 50)                0         \n",
      "                                                                 \n",
      " dense_1 (Dense)             (None, 1)                 51        \n",
      "                                                                 \n",
      "=================================================================\n",
      "Total params: 35,251\n",
      "Trainable params: 35,251\n",
      "Non-trainable params: 0\n",
      "_________________________________________________________________\n"
     ]
    }
   ],
   "source": [
    "model.summary()"
   ]
  },
  {
   "cell_type": "code",
   "execution_count": 65,
   "id": "b91010e4-8636-4638-9dc4-e9180c562ef1",
   "metadata": {
    "tags": []
   },
   "outputs": [
    {
     "name": "stdout",
     "output_type": "stream",
     "text": [
      "Epoch 1/100\n",
      "907/907 [==============================] - 8s 5ms/step - loss: 145.1771 - val_loss: 57.0803\n",
      "Epoch 2/100\n",
      "907/907 [==============================] - 4s 5ms/step - loss: 59.7898 - val_loss: 56.9882\n",
      "Epoch 3/100\n",
      "907/907 [==============================] - 4s 5ms/step - loss: 59.4801 - val_loss: 57.0574\n",
      "Epoch 4/100\n",
      "907/907 [==============================] - 4s 5ms/step - loss: 59.5142 - val_loss: 56.8786\n",
      "Epoch 5/100\n",
      "907/907 [==============================] - 4s 5ms/step - loss: 58.0394 - val_loss: 55.0013\n",
      "Epoch 6/100\n",
      "907/907 [==============================] - 4s 5ms/step - loss: 56.7829 - val_loss: 54.9779\n",
      "Epoch 7/100\n",
      "907/907 [==============================] - 4s 5ms/step - loss: 56.9894 - val_loss: 55.0138\n",
      "Epoch 8/100\n",
      "907/907 [==============================] - 4s 5ms/step - loss: 56.7022 - val_loss: 54.4729\n",
      "Epoch 9/100\n",
      "907/907 [==============================] - 4s 5ms/step - loss: 56.5255 - val_loss: 54.2509\n",
      "Epoch 10/100\n",
      "907/907 [==============================] - 4s 5ms/step - loss: 56.1867 - val_loss: 54.3625\n",
      "Epoch 11/100\n",
      "907/907 [==============================] - 4s 5ms/step - loss: 56.1259 - val_loss: 53.9930\n",
      "Epoch 12/100\n",
      "907/907 [==============================] - 4s 5ms/step - loss: 55.8630 - val_loss: 54.5068\n",
      "Epoch 13/100\n",
      "907/907 [==============================] - 4s 5ms/step - loss: 55.9976 - val_loss: 53.8555\n",
      "Epoch 14/100\n",
      "907/907 [==============================] - 4s 5ms/step - loss: 55.9525 - val_loss: 54.0167\n",
      "Epoch 15/100\n",
      "907/907 [==============================] - 4s 5ms/step - loss: 55.8189 - val_loss: 53.7615\n",
      "Epoch 16/100\n",
      "907/907 [==============================] - 4s 5ms/step - loss: 55.4933 - val_loss: 53.7675\n",
      "Epoch 17/100\n",
      "907/907 [==============================] - 4s 4ms/step - loss: 55.5776 - val_loss: 54.2169\n",
      "Epoch 18/100\n",
      "907/907 [==============================] - 4s 5ms/step - loss: 55.4391 - val_loss: 54.0690\n",
      "Epoch 19/100\n",
      "907/907 [==============================] - 4s 5ms/step - loss: 55.8321 - val_loss: 53.6670\n",
      "Epoch 20/100\n",
      "907/907 [==============================] - 4s 5ms/step - loss: 55.4749 - val_loss: 53.9043\n",
      "Epoch 21/100\n",
      "907/907 [==============================] - 4s 5ms/step - loss: 55.5968 - val_loss: 53.8085\n",
      "Epoch 22/100\n",
      "907/907 [==============================] - 4s 5ms/step - loss: 55.4056 - val_loss: 53.9334\n",
      "Epoch 23/100\n",
      "907/907 [==============================] - 4s 5ms/step - loss: 55.7447 - val_loss: 54.1069\n",
      "Epoch 24/100\n",
      "907/907 [==============================] - 4s 5ms/step - loss: 55.3922 - val_loss: 54.6713\n",
      "Epoch 25/100\n",
      "907/907 [==============================] - 4s 5ms/step - loss: 54.9884 - val_loss: 53.5563\n",
      "Epoch 26/100\n",
      "907/907 [==============================] - 4s 4ms/step - loss: 54.9134 - val_loss: 54.5495\n",
      "Epoch 27/100\n",
      "907/907 [==============================] - 4s 4ms/step - loss: 55.0438 - val_loss: 53.8194\n",
      "Epoch 28/100\n",
      "907/907 [==============================] - 4s 4ms/step - loss: 55.4030 - val_loss: 53.9618\n",
      "Epoch 29/100\n",
      "907/907 [==============================] - 4s 5ms/step - loss: 55.0661 - val_loss: 53.5002\n",
      "Epoch 30/100\n",
      "907/907 [==============================] - 4s 5ms/step - loss: 55.3014 - val_loss: 54.3534\n",
      "Epoch 31/100\n",
      "907/907 [==============================] - 4s 4ms/step - loss: 55.1951 - val_loss: 53.7254\n",
      "Epoch 32/100\n",
      "907/907 [==============================] - 4s 4ms/step - loss: 55.0606 - val_loss: 53.7323\n",
      "Epoch 33/100\n",
      "907/907 [==============================] - 4s 5ms/step - loss: 55.1435 - val_loss: 53.6701\n",
      "Epoch 34/100\n",
      "907/907 [==============================] - 4s 5ms/step - loss: 54.8292 - val_loss: 53.5208\n",
      "Epoch 35/100\n",
      "907/907 [==============================] - 4s 4ms/step - loss: 54.8145 - val_loss: 53.7057\n",
      "Epoch 36/100\n",
      "907/907 [==============================] - 4s 4ms/step - loss: 54.8509 - val_loss: 54.0511\n",
      "Epoch 37/100\n",
      "907/907 [==============================] - 4s 4ms/step - loss: 54.8731 - val_loss: 53.6300\n",
      "Epoch 38/100\n",
      "907/907 [==============================] - 4s 4ms/step - loss: 54.6679 - val_loss: 53.6541\n",
      "Epoch 39/100\n",
      "907/907 [==============================] - 4s 4ms/step - loss: 54.6856 - val_loss: 53.6468\n",
      "Epoch 40/100\n",
      "907/907 [==============================] - 4s 4ms/step - loss: 54.9726 - val_loss: 53.5240\n",
      "Epoch 41/100\n",
      "907/907 [==============================] - 4s 5ms/step - loss: 54.8466 - val_loss: 53.5109\n",
      "Epoch 42/100\n",
      "907/907 [==============================] - 4s 5ms/step - loss: 54.7171 - val_loss: 53.6194\n",
      "Epoch 43/100\n",
      "907/907 [==============================] - 4s 5ms/step - loss: 54.7803 - val_loss: 53.9186\n",
      "Epoch 44/100\n",
      "907/907 [==============================] - 4s 5ms/step - loss: 54.3166 - val_loss: 53.6917\n",
      "Epoch 45/100\n",
      "907/907 [==============================] - 4s 5ms/step - loss: 54.2612 - val_loss: 54.3430\n",
      "Epoch 46/100\n",
      "907/907 [==============================] - 4s 5ms/step - loss: 54.4645 - val_loss: 53.5507\n",
      "Epoch 47/100\n",
      "907/907 [==============================] - 4s 5ms/step - loss: 54.1780 - val_loss: 53.5401\n",
      "Epoch 48/100\n",
      "907/907 [==============================] - 4s 5ms/step - loss: 54.4114 - val_loss: 54.1855\n",
      "Epoch 49/100\n",
      "907/907 [==============================] - 4s 5ms/step - loss: 54.2375 - val_loss: 54.0689\n",
      "Epoch 50/100\n",
      "907/907 [==============================] - 4s 5ms/step - loss: 54.3427 - val_loss: 53.7073\n",
      "Epoch 51/100\n",
      "907/907 [==============================] - 4s 5ms/step - loss: 54.4653 - val_loss: 53.4566\n",
      "Epoch 52/100\n",
      "907/907 [==============================] - 4s 4ms/step - loss: 54.0709 - val_loss: 53.4986\n",
      "Epoch 53/100\n",
      "907/907 [==============================] - 4s 4ms/step - loss: 54.2244 - val_loss: 54.0391\n",
      "Epoch 54/100\n",
      "907/907 [==============================] - 4s 5ms/step - loss: 53.9732 - val_loss: 53.8322\n",
      "Epoch 55/100\n",
      "907/907 [==============================] - 4s 4ms/step - loss: 54.0884 - val_loss: 53.6642\n",
      "Epoch 56/100\n",
      "907/907 [==============================] - 4s 4ms/step - loss: 54.0202 - val_loss: 53.4616\n",
      "Epoch 57/100\n",
      "907/907 [==============================] - 4s 4ms/step - loss: 53.9875 - val_loss: 53.7528\n",
      "Epoch 58/100\n",
      "907/907 [==============================] - 4s 4ms/step - loss: 54.1854 - val_loss: 53.6717\n",
      "Epoch 59/100\n",
      "907/907 [==============================] - 4s 5ms/step - loss: 54.2216 - val_loss: 53.6301\n",
      "Epoch 60/100\n",
      "907/907 [==============================] - 4s 4ms/step - loss: 53.9221 - val_loss: 53.6589\n",
      "Epoch 61/100\n",
      "907/907 [==============================] - 4s 5ms/step - loss: 53.8755 - val_loss: 53.5858\n",
      "Epoch 62/100\n",
      "907/907 [==============================] - 4s 5ms/step - loss: 53.8941 - val_loss: 53.6704\n",
      "Epoch 63/100\n",
      "907/907 [==============================] - 4s 5ms/step - loss: 53.6745 - val_loss: 53.5356\n",
      "Epoch 64/100\n",
      "907/907 [==============================] - 4s 5ms/step - loss: 53.7710 - val_loss: 54.2422\n",
      "Epoch 65/100\n",
      "907/907 [==============================] - 5s 5ms/step - loss: 53.6214 - val_loss: 53.5885\n",
      "Epoch 66/100\n",
      "907/907 [==============================] - 4s 5ms/step - loss: 53.9804 - val_loss: 53.8051\n",
      "Epoch 67/100\n",
      "907/907 [==============================] - 5s 5ms/step - loss: 53.9079 - val_loss: 53.6761\n",
      "Epoch 68/100\n",
      "907/907 [==============================] - 5s 5ms/step - loss: 53.6143 - val_loss: 53.7881\n",
      "Epoch 69/100\n",
      "907/907 [==============================] - 5s 6ms/step - loss: 53.8226 - val_loss: 53.4512\n",
      "Epoch 70/100\n",
      "907/907 [==============================] - 5s 6ms/step - loss: 53.4982 - val_loss: 53.7947\n",
      "Epoch 71/100\n",
      "907/907 [==============================] - 5s 6ms/step - loss: 53.6563 - val_loss: 53.5113\n",
      "Epoch 72/100\n",
      "907/907 [==============================] - 5s 5ms/step - loss: 53.4910 - val_loss: 53.6346\n",
      "Epoch 73/100\n",
      "907/907 [==============================] - 5s 5ms/step - loss: 53.5414 - val_loss: 53.5932\n",
      "Epoch 74/100\n",
      "907/907 [==============================] - 5s 5ms/step - loss: 53.4970 - val_loss: 53.3788\n",
      "Epoch 75/100\n",
      "907/907 [==============================] - 5s 5ms/step - loss: 53.3604 - val_loss: 53.5013\n",
      "Epoch 76/100\n",
      "907/907 [==============================] - 5s 5ms/step - loss: 53.2681 - val_loss: 53.4411\n",
      "Epoch 77/100\n",
      "907/907 [==============================] - 5s 5ms/step - loss: 53.3498 - val_loss: 53.7243\n",
      "Epoch 78/100\n",
      "907/907 [==============================] - 5s 5ms/step - loss: 53.1562 - val_loss: 54.3763\n",
      "Epoch 79/100\n",
      "907/907 [==============================] - 4s 5ms/step - loss: 53.2268 - val_loss: 53.5757\n",
      "Epoch 80/100\n",
      "907/907 [==============================] - 4s 5ms/step - loss: 52.9203 - val_loss: 53.5719\n",
      "Epoch 81/100\n",
      "907/907 [==============================] - 4s 5ms/step - loss: 53.1615 - val_loss: 53.5232\n",
      "Epoch 82/100\n",
      "907/907 [==============================] - 4s 5ms/step - loss: 53.1147 - val_loss: 53.9272\n",
      "Epoch 83/100\n",
      "907/907 [==============================] - 4s 5ms/step - loss: 53.2272 - val_loss: 53.5905\n",
      "Epoch 84/100\n",
      "907/907 [==============================] - 4s 5ms/step - loss: 52.9249 - val_loss: 53.7874\n",
      "Epoch 85/100\n",
      "907/907 [==============================] - 4s 5ms/step - loss: 53.0741 - val_loss: 53.6096\n",
      "Epoch 86/100\n",
      "907/907 [==============================] - 4s 5ms/step - loss: 53.1127 - val_loss: 53.6682\n",
      "Epoch 87/100\n",
      "907/907 [==============================] - 4s 5ms/step - loss: 53.1722 - val_loss: 53.5771\n",
      "Epoch 88/100\n",
      "907/907 [==============================] - 4s 5ms/step - loss: 52.7821 - val_loss: 53.5599\n",
      "Epoch 89/100\n",
      "907/907 [==============================] - 4s 5ms/step - loss: 52.7886 - val_loss: 53.5149\n",
      "Epoch 90/100\n",
      "907/907 [==============================] - 4s 5ms/step - loss: 52.5466 - val_loss: 53.7907\n",
      "Epoch 91/100\n",
      "907/907 [==============================] - 4s 5ms/step - loss: 52.8429 - val_loss: 53.8742\n",
      "Epoch 92/100\n",
      "907/907 [==============================] - 4s 5ms/step - loss: 52.8813 - val_loss: 53.4234\n",
      "Epoch 93/100\n",
      "907/907 [==============================] - 4s 5ms/step - loss: 52.8977 - val_loss: 53.6399\n",
      "Epoch 94/100\n",
      "907/907 [==============================] - 5s 5ms/step - loss: 52.7282 - val_loss: 53.6005\n",
      "Epoch 95/100\n",
      "907/907 [==============================] - 4s 5ms/step - loss: 52.7257 - val_loss: 53.8739\n",
      "Epoch 96/100\n",
      "907/907 [==============================] - 4s 5ms/step - loss: 52.3318 - val_loss: 53.4638\n",
      "Epoch 97/100\n",
      "907/907 [==============================] - 4s 5ms/step - loss: 52.7516 - val_loss: 53.6833\n",
      "Epoch 98/100\n",
      "907/907 [==============================] - 4s 5ms/step - loss: 52.7667 - val_loss: 53.8544\n",
      "Epoch 99/100\n",
      "907/907 [==============================] - 4s 5ms/step - loss: 52.5516 - val_loss: 53.7991\n",
      "Epoch 100/100\n",
      "907/907 [==============================] - 4s 5ms/step - loss: 52.6150 - val_loss: 53.6360\n"
     ]
    }
   ],
   "source": [
    "history = model.fit(X_train, y_train, epochs=100, batch_size=32, validation_split=0.1, verbose=1)"
   ]
  },
  {
   "cell_type": "code",
   "execution_count": 66,
   "id": "2940bc6c-4408-4f49-a01f-42e103ec7359",
   "metadata": {
    "tags": []
   },
   "outputs": [
    {
     "name": "stdout",
     "output_type": "stream",
     "text": [
      "252/252 [==============================] - 1s 2ms/step - loss: 52.6815\n",
      "Test Loss: 52.681453704833984\n"
     ]
    }
   ],
   "source": [
    "test_loss = model.evaluate(X_test, y_test)\n",
    "print('Test Loss:', test_loss)\n"
   ]
  },
  {
   "cell_type": "code",
   "execution_count": 75,
   "id": "8c563df1-31b5-4cb1-982d-819753db2371",
   "metadata": {
    "tags": []
   },
   "outputs": [
    {
     "name": "stdout",
     "output_type": "stream",
     "text": [
      "252/252 [==============================] - 0s 2ms/step\n"
     ]
    }
   ],
   "source": [
    "predictions = model.predict(X_test)"
   ]
  },
  {
   "cell_type": "code",
   "execution_count": 68,
   "id": "556e4ae0-77e4-494c-8b14-6d75c0d51748",
   "metadata": {
    "tags": []
   },
   "outputs": [
    {
     "data": {
      "text/plain": [
       "array([[32.500328],\n",
       "       [27.20413 ],\n",
       "       [30.285332],\n",
       "       ...,\n",
       "       [29.440952],\n",
       "       [33.072075],\n",
       "       [32.699192]], dtype=float32)"
      ]
     },
     "execution_count": 68,
     "metadata": {},
     "output_type": "execute_result"
    }
   ],
   "source": [
    "predictions"
   ]
  },
  {
   "cell_type": "code",
   "execution_count": 69,
   "id": "b737ef2b-dad9-4190-b07b-16dc473546c1",
   "metadata": {
    "tags": []
   },
   "outputs": [
    {
     "data": {
      "text/plain": [
       "array([27.1745267 , 27.90357925, 24.1794799 , ..., 24.65051903,\n",
       "       39.23265306, 21.43902536])"
      ]
     },
     "execution_count": 69,
     "metadata": {},
     "output_type": "execute_result"
    }
   ],
   "source": [
    "y_test"
   ]
  },
  {
   "cell_type": "code",
   "execution_count": 70,
   "id": "b9b0444e-9ce7-4f57-8ba7-5024c674c570",
   "metadata": {
    "tags": []
   },
   "outputs": [
    {
     "data": {
      "image/png": "[encoded data removed]",
      "text/plain": [
       "<Figure size 640x480 with 1 Axes>"
      ]
     },
     "metadata": {},
     "output_type": "display_data"
    }
   ],
   "source": [
    "import matplotlib.pyplot as plt\n",
    "\n",
    "# Assuming 'history' is the output of the model.fit() process\n",
    "plt.plot(history.history['loss'], label='Training loss')\n",
    "plt.plot(history.history['val_loss'], label='Validation loss')\n",
    "plt.title('Model Loss Over Epochs')\n",
    "plt.ylabel('Loss')\n",
    "plt.xlabel('Epoch')\n",
    "plt.legend()\n",
    "plt.show()\n"
   ]
  },
  {
   "cell_type": "code",
   "execution_count": 76,
   "id": "1218e9f3-d1d8-439f-81a5-f6ad2ce4fd6d",
   "metadata": {
    "tags": []
   },
   "outputs": [
    {
     "data": {
      "image/png": "[encoded data removed]",
      "text/plain": [
       "<Figure size 640x480 with 1 Axes>"
      ]
     },
     "metadata": {},
     "output_type": "display_data"
    }
   ],
   "source": [
    "import matplotlib.pyplot as plt\n",
    "\n",
    "# Scatter plot of actual vs. predicted values\n",
    "plt.scatter(y_test, predictions, alpha=0.5)  # alpha for transparency\n",
    "\n",
    "# Add the y=x line\n",
    "plt.plot([y_test.min(), y_test.max()], [y_test.min(), y_test.max()], 'k--', lw=2)\n",
    "# 'k--' indicates a black dashed line and 'lw' is the line width\n",
    "\n",
    "plt.title('Actual vs. Predicted Values')\n",
    "plt.xlabel('Actual Values')\n",
    "plt.ylabel('Predicted Values')\n",
    "plt.show()\n",
    "\n"
   ]
  },
  {
   "cell_type": "markdown",
   "id": "660e501f-b069-470f-b08c-8274f8765372",
   "metadata": {},
   "source": [
    "## Only use the patients with more than one record and train again"
   ]
  },
  {
   "cell_type": "code",
   "execution_count": null,
   "id": "613b0fd1-94a6-4d27-8206-d86cee79ece3",
   "metadata": {},
   "outputs": [],
   "source": []
  },
  {
   "cell_type": "code",
   "execution_count": 32,
   "id": "8d6dba5c-1600-4ff3-8c2d-eeebad92832a",
   "metadata": {
    "tags": []
   },
   "outputs": [],
   "source": [
    "from tensorflow.keras.preprocessing.sequence import pad_sequences\n",
    "\n",
    "def create_sequences(data, sequence_length):\n",
    "    data_size = len(data)\n",
    "    target = data.iloc[data_size-1]['bmi']\n",
    "    data = data.drop('bmi', axis=1)\n",
    "    if data_size < sequence_length:\n",
    "        seq = data[:data_size]\n",
    "    else:\n",
    "        seq = data[data_size-sequence_length:data_size]\n",
    "    return np.array(seq), target\n",
    "\n",
    "sequence_length = 5 "
   ]
  },
  {
   "cell_type": "code",
   "execution_count": 33,
   "id": "2814891c-8054-485b-bf04-2dbd8b13cf7e",
   "metadata": {
    "tags": []
   },
   "outputs": [],
   "source": [
    "X = []\n",
    "y = []\n",
    "\n",
    "for patient_id in df_new_bmi['subject_id'].unique():\n",
    "    patient_data = df_new_bmi[df_new_bmi['subject_id'] == patient_id]\n",
    "    patient_data = patient_data.drop(['subject_id', 'hadm_id', 'admittime', 'dischtime'], axis=1)\n",
    "    seq, target = create_sequences(patient_data, sequence_length)\n",
    "    X.append(seq)\n",
    "    y.append(target)\n",
    "\n",
    "# Pad sequences\n",
    "X_padded = pad_sequences(X, maxlen=sequence_length, padding='pre', dtype='float', value=0.0)\n",
    "y = np.array(y)"
   ]
  },
  {
   "cell_type": "code",
   "execution_count": 38,
   "id": "872cd708-90ce-4344-b8c1-3987b2bffb80",
   "metadata": {
    "tags": []
   },
   "outputs": [
    {
     "data": {
      "text/plain": [
       "(40295, 5, 24)"
      ]
     },
     "execution_count": 38,
     "metadata": {},
     "output_type": "execute_result"
    }
   ],
   "source": [
    "X_padded.shape"
   ]
  },
  {
   "cell_type": "markdown",
   "id": "be997e3e-07c6-4384-a060-7d8878d7f9a4",
   "metadata": {},
   "source": [
    "### Normalization"
   ]
  },
  {
   "cell_type": "code",
   "execution_count": 40,
   "id": "794e999a-1434-479d-851b-2cf956f4374d",
   "metadata": {
    "tags": []
   },
   "outputs": [],
   "source": [
    "from sklearn.preprocessing import MinMaxScaler\n",
    "\n",
    "# Flatten the 3D array to 2D for normalization\n",
    "n_samples, n_sequence, n_features = X_padded.shape\n",
    "X_flattened = X_padded.reshape(-1, n_features)\n",
    "\n",
    "# Normalize the data\n",
    "scaler = MinMaxScaler()\n",
    "X_flattened_scaled = scaler.fit_transform(X_flattened)\n",
    "\n",
    "# Reshape back to 3D\n",
    "X_scaled = X_flattened_scaled.reshape(n_samples, n_sequence, n_features)\n"
   ]
  },
  {
   "cell_type": "markdown",
   "id": "11efa59a-f4ce-409c-b1e7-d08bc9bb077f",
   "metadata": {},
   "source": [
    "### Train-Test split"
   ]
  },
  {
   "cell_type": "code",
   "execution_count": 43,
   "id": "59945811-01c9-4f05-b861-79bfe61f0888",
   "metadata": {
    "tags": []
   },
   "outputs": [],
   "source": [
    "from sklearn.model_selection import train_test_split\n",
    "\n",
    "# Split the data\n",
    "X_train, X_test, y_train, y_test = train_test_split(X_scaled, y, test_size=0.2, random_state=1000)\n"
   ]
  },
  {
   "cell_type": "markdown",
   "id": "eaa37435-8ccd-4035-a30e-a2c49007e91d",
   "metadata": {},
   "source": [
    "### Modeling"
   ]
  },
  {
   "cell_type": "code",
   "execution_count": 44,
   "id": "623ca53e-9e09-48c6-85a8-7cbd67ec6d2f",
   "metadata": {
    "tags": []
   },
   "outputs": [
    {
     "name": "stderr",
     "output_type": "stream",
     "text": [
      "2023-12-15 17:54:27.803856: I tensorflow/compiler/xla/stream_executor/cuda/cuda_gpu_executor.cc:981] successful NUMA node read from SysFS had negative value (-1), but there must be at least one NUMA node, so returning NUMA node zero\n",
      "2023-12-15 17:54:27.813210: I tensorflow/compiler/xla/stream_executor/cuda/cuda_gpu_executor.cc:981] successful NUMA node read from SysFS had negative value (-1), but there must be at least one NUMA node, so returning NUMA node zero\n",
      "2023-12-15 17:54:27.814011: I tensorflow/compiler/xla/stream_executor/cuda/cuda_gpu_executor.cc:981] successful NUMA node read from SysFS had negative value (-1), but there must be at least one NUMA node, so returning NUMA node zero\n",
      "2023-12-15 17:54:27.814908: I tensorflow/core/platform/cpu_feature_guard.cc:193] This TensorFlow binary is optimized with oneAPI Deep Neural Network Library (oneDNN) to use the following CPU instructions in performance-critical operations:  AVX512F AVX512_VNNI\n",
      "To enable them in other operations, rebuild TensorFlow with the appropriate compiler flags.\n",
      "2023-12-15 17:54:27.815353: I tensorflow/compiler/xla/stream_executor/cuda/cuda_gpu_executor.cc:981] successful NUMA node read from SysFS had negative value (-1), but there must be at least one NUMA node, so returning NUMA node zero\n",
      "2023-12-15 17:54:27.815924: I tensorflow/compiler/xla/stream_executor/cuda/cuda_gpu_executor.cc:981] successful NUMA node read from SysFS had negative value (-1), but there must be at least one NUMA node, so returning NUMA node zero\n",
      "2023-12-15 17:54:27.816442: I tensorflow/compiler/xla/stream_executor/cuda/cuda_gpu_executor.cc:981] successful NUMA node read from SysFS had negative value (-1), but there must be at least one NUMA node, so returning NUMA node zero\n",
      "2023-12-15 17:54:28.588947: I tensorflow/compiler/xla/stream_executor/cuda/cuda_gpu_executor.cc:981] successful NUMA node read from SysFS had negative value (-1), but there must be at least one NUMA node, so returning NUMA node zero\n",
      "2023-12-15 17:54:28.589625: I tensorflow/compiler/xla/stream_executor/cuda/cuda_gpu_executor.cc:981] successful NUMA node read from SysFS had negative value (-1), but there must be at least one NUMA node, so returning NUMA node zero\n",
      "2023-12-15 17:54:28.590191: I tensorflow/compiler/xla/stream_executor/cuda/cuda_gpu_executor.cc:981] successful NUMA node read from SysFS had negative value (-1), but there must be at least one NUMA node, so returning NUMA node zero\n",
      "2023-12-15 17:54:28.590699: I tensorflow/core/common_runtime/gpu/gpu_device.cc:1613] Created device /job:localhost/replica:0/task:0/device:GPU:0 with 13825 MB memory:  -> device: 0, name: Tesla T4, pci bus id: 0000:00:1e.0, compute capability: 7.5\n"
     ]
    }
   ],
   "source": [
    "from tensorflow.keras.models import Sequential\n",
    "from tensorflow.keras.layers import LSTM, Dense, Dropout\n",
    "\n",
    "# LSTM model\n",
    "model = Sequential()\n",
    "model.add(LSTM(50, return_sequences=True, input_shape=(n_sequence, n_features)))\n",
    "model.add(Dropout(0.2))\n",
    "model.add(LSTM(50, return_sequences=False))\n",
    "model.add(Dropout(0.2))\n",
    "model.add(Dense(1))  # Predicting a single value\n",
    "\n",
    "# Compile the model\n",
    "model.compile(optimizer='adam', loss='mean_squared_error')\n"
   ]
  },
  {
   "cell_type": "code",
   "execution_count": 46,
   "id": "16338983-f60a-4f3b-99fc-173b5a653a4c",
   "metadata": {
    "tags": []
   },
   "outputs": [
    {
     "name": "stdout",
     "output_type": "stream",
     "text": [
      "Model: \"sequential\"\n",
      "_________________________________________________________________\n",
      " Layer (type)                Output Shape              Param #   \n",
      "=================================================================\n",
      " lstm (LSTM)                 (None, 5, 50)             15000     \n",
      "                                                                 \n",
      " dropout (Dropout)           (None, 5, 50)             0         \n",
      "                                                                 \n",
      " lstm_1 (LSTM)               (None, 50)                20200     \n",
      "                                                                 \n",
      " dropout_1 (Dropout)         (None, 50)                0         \n",
      "                                                                 \n",
      " dense (Dense)               (None, 1)                 51        \n",
      "                                                                 \n",
      "=================================================================\n",
      "Total params: 35,251\n",
      "Trainable params: 35,251\n",
      "Non-trainable params: 0\n",
      "_________________________________________________________________\n"
     ]
    }
   ],
   "source": [
    "model.summary()"
   ]
  },
  {
   "cell_type": "code",
   "execution_count": 47,
   "id": "937f103c-1a9b-4af7-9597-a186a644fd90",
   "metadata": {
    "tags": []
   },
   "outputs": [
    {
     "name": "stdout",
     "output_type": "stream",
     "text": [
      "Epoch 1/100\n"
     ]
    },
    {
     "name": "stderr",
     "output_type": "stream",
     "text": [
      "2023-12-15 17:56:06.009246: I tensorflow/compiler/xla/stream_executor/cuda/cuda_dnn.cc:428] Loaded cuDNN version 8204\n",
      "2023-12-15 17:56:07.012537: I tensorflow/compiler/xla/service/service.cc:173] XLA service 0x55618dbe6c70 initialized for platform CUDA (this does not guarantee that XLA will be used). Devices:\n",
      "2023-12-15 17:56:07.012574: I tensorflow/compiler/xla/service/service.cc:181]   StreamExecutor device (0): Tesla T4, Compute Capability 7.5\n",
      "2023-12-15 17:56:07.017050: I tensorflow/compiler/mlir/tensorflow/utils/dump_mlir_util.cc:268] disabling MLIR crash reproducer, set env var `MLIR_CRASH_REPRODUCER_DIRECTORY` to enable.\n",
      "2023-12-15 17:56:07.211620: I tensorflow/compiler/jit/xla_compilation_cache.cc:477] Compiled cluster using XLA!  This line is logged at most once for the lifetime of the process.\n"
     ]
    },
    {
     "name": "stdout",
     "output_type": "stream",
     "text": [
      "907/907 [==============================] - 11s 6ms/step - loss: 132.5871 - val_loss: 57.1500\n",
      "Epoch 2/100\n",
      "907/907 [==============================] - 4s 4ms/step - loss: 59.3887 - val_loss: 57.0047\n",
      "Epoch 3/100\n",
      "907/907 [==============================] - 4s 4ms/step - loss: 59.9433 - val_loss: 57.0218\n",
      "Epoch 4/100\n",
      "907/907 [==============================] - 4s 5ms/step - loss: 59.5120 - val_loss: 57.0981\n",
      "Epoch 5/100\n",
      "907/907 [==============================] - 4s 4ms/step - loss: 59.7047 - val_loss: 57.1336\n",
      "Epoch 6/100\n",
      "907/907 [==============================] - 4s 4ms/step - loss: 59.6045 - val_loss: 57.1521\n",
      "Epoch 7/100\n",
      "907/907 [==============================] - 4s 4ms/step - loss: 59.0853 - val_loss: 56.5264\n",
      "Epoch 8/100\n",
      "907/907 [==============================] - 4s 5ms/step - loss: 57.3363 - val_loss: 54.4998\n",
      "Epoch 9/100\n",
      "907/907 [==============================] - 4s 5ms/step - loss: 56.7067 - val_loss: 54.2971\n",
      "Epoch 10/100\n",
      "907/907 [==============================] - 4s 5ms/step - loss: 56.2958 - val_loss: 54.6753\n",
      "Epoch 11/100\n",
      "907/907 [==============================] - 4s 5ms/step - loss: 56.6574 - val_loss: 54.2040\n",
      "Epoch 12/100\n",
      "907/907 [==============================] - 4s 5ms/step - loss: 56.4162 - val_loss: 54.1652\n",
      "Epoch 13/100\n",
      "907/907 [==============================] - 4s 5ms/step - loss: 56.0386 - val_loss: 54.0306\n",
      "Epoch 14/100\n",
      "907/907 [==============================] - 4s 5ms/step - loss: 56.2191 - val_loss: 54.1962\n",
      "Epoch 15/100\n",
      "907/907 [==============================] - 4s 5ms/step - loss: 56.1962 - val_loss: 54.0303\n",
      "Epoch 16/100\n",
      "907/907 [==============================] - 4s 5ms/step - loss: 56.0904 - val_loss: 53.8688\n",
      "Epoch 17/100\n",
      "907/907 [==============================] - 4s 5ms/step - loss: 55.8744 - val_loss: 54.2948\n",
      "Epoch 18/100\n",
      "907/907 [==============================] - 4s 5ms/step - loss: 55.9072 - val_loss: 54.3163\n",
      "Epoch 19/100\n",
      "907/907 [==============================] - 5s 5ms/step - loss: 55.4854 - val_loss: 53.7525\n",
      "Epoch 20/100\n",
      "907/907 [==============================] - 4s 5ms/step - loss: 55.7173 - val_loss: 54.4033\n",
      "Epoch 21/100\n",
      "907/907 [==============================] - 4s 5ms/step - loss: 55.5891 - val_loss: 53.7601\n",
      "Epoch 22/100\n",
      "907/907 [==============================] - 4s 5ms/step - loss: 55.0352 - val_loss: 54.4717\n",
      "Epoch 23/100\n",
      "907/907 [==============================] - 5s 5ms/step - loss: 55.3167 - val_loss: 53.8733\n",
      "Epoch 24/100\n",
      "907/907 [==============================] - 5s 5ms/step - loss: 55.1814 - val_loss: 53.6747\n",
      "Epoch 25/100\n",
      "907/907 [==============================] - 5s 5ms/step - loss: 55.4967 - val_loss: 53.5900\n",
      "Epoch 26/100\n",
      "907/907 [==============================] - 4s 5ms/step - loss: 55.1455 - val_loss: 53.7996\n",
      "Epoch 27/100\n",
      "907/907 [==============================] - 4s 5ms/step - loss: 55.3276 - val_loss: 53.7248\n",
      "Epoch 28/100\n",
      "907/907 [==============================] - 4s 5ms/step - loss: 54.7335 - val_loss: 53.7901\n",
      "Epoch 29/100\n",
      "907/907 [==============================] - 4s 5ms/step - loss: 55.1083 - val_loss: 53.6905\n",
      "Epoch 30/100\n",
      "907/907 [==============================] - 4s 5ms/step - loss: 55.2583 - val_loss: 54.1568\n",
      "Epoch 31/100\n",
      "907/907 [==============================] - 4s 5ms/step - loss: 54.8999 - val_loss: 53.8148\n",
      "Epoch 32/100\n",
      "907/907 [==============================] - 4s 5ms/step - loss: 54.8753 - val_loss: 53.8689\n",
      "Epoch 33/100\n",
      "907/907 [==============================] - 4s 5ms/step - loss: 54.5891 - val_loss: 53.8242\n",
      "Epoch 34/100\n",
      "907/907 [==============================] - 4s 5ms/step - loss: 55.1369 - val_loss: 53.7715\n",
      "Epoch 35/100\n",
      "907/907 [==============================] - 4s 5ms/step - loss: 54.7205 - val_loss: 53.7133\n",
      "Epoch 36/100\n",
      "907/907 [==============================] - 4s 5ms/step - loss: 54.6437 - val_loss: 53.6656\n",
      "Epoch 37/100\n",
      "907/907 [==============================] - 4s 5ms/step - loss: 54.6788 - val_loss: 53.9934\n",
      "Epoch 38/100\n",
      "907/907 [==============================] - 4s 5ms/step - loss: 54.7866 - val_loss: 54.2434\n",
      "Epoch 39/100\n",
      "907/907 [==============================] - 4s 5ms/step - loss: 54.5525 - val_loss: 53.9872\n",
      "Epoch 40/100\n",
      "907/907 [==============================] - 4s 5ms/step - loss: 54.5300 - val_loss: 53.8499\n",
      "Epoch 41/100\n",
      "907/907 [==============================] - 4s 5ms/step - loss: 54.3417 - val_loss: 54.4209\n",
      "Epoch 42/100\n",
      "907/907 [==============================] - 4s 5ms/step - loss: 54.5046 - val_loss: 54.0744\n",
      "Epoch 43/100\n",
      "907/907 [==============================] - 4s 5ms/step - loss: 54.7711 - val_loss: 53.9270\n",
      "Epoch 44/100\n",
      "907/907 [==============================] - 4s 5ms/step - loss: 54.5293 - val_loss: 53.7621\n",
      "Epoch 45/100\n",
      "907/907 [==============================] - 4s 5ms/step - loss: 54.5296 - val_loss: 54.2635\n",
      "Epoch 46/100\n",
      "907/907 [==============================] - 4s 5ms/step - loss: 54.3395 - val_loss: 53.9740\n",
      "Epoch 47/100\n",
      "907/907 [==============================] - 4s 5ms/step - loss: 54.3944 - val_loss: 53.7372\n",
      "Epoch 48/100\n",
      "907/907 [==============================] - 4s 5ms/step - loss: 54.4273 - val_loss: 54.3030\n",
      "Epoch 49/100\n",
      "907/907 [==============================] - 4s 5ms/step - loss: 54.4469 - val_loss: 53.9889\n",
      "Epoch 50/100\n",
      "907/907 [==============================] - 4s 5ms/step - loss: 54.0638 - val_loss: 53.7646\n",
      "Epoch 51/100\n",
      "907/907 [==============================] - 4s 5ms/step - loss: 54.4419 - val_loss: 54.1349\n",
      "Epoch 52/100\n",
      "907/907 [==============================] - 4s 5ms/step - loss: 54.0957 - val_loss: 54.4370\n",
      "Epoch 53/100\n",
      "907/907 [==============================] - 4s 5ms/step - loss: 54.3675 - val_loss: 53.6236\n",
      "Epoch 54/100\n",
      "907/907 [==============================] - 4s 5ms/step - loss: 53.9295 - val_loss: 54.0372\n",
      "Epoch 55/100\n",
      "907/907 [==============================] - 4s 5ms/step - loss: 54.0437 - val_loss: 53.7966\n",
      "Epoch 56/100\n",
      "907/907 [==============================] - 4s 5ms/step - loss: 54.0866 - val_loss: 53.7285\n",
      "Epoch 57/100\n",
      "907/907 [==============================] - 4s 5ms/step - loss: 53.7297 - val_loss: 53.8383\n",
      "Epoch 58/100\n",
      "907/907 [==============================] - 4s 5ms/step - loss: 53.9576 - val_loss: 53.7488\n",
      "Epoch 59/100\n",
      "907/907 [==============================] - 4s 5ms/step - loss: 53.7344 - val_loss: 53.9668\n",
      "Epoch 60/100\n",
      "907/907 [==============================] - 4s 5ms/step - loss: 53.7136 - val_loss: 54.2600\n",
      "Epoch 61/100\n",
      "907/907 [==============================] - 4s 5ms/step - loss: 53.7180 - val_loss: 53.9278\n",
      "Epoch 62/100\n",
      "907/907 [==============================] - 4s 5ms/step - loss: 53.6957 - val_loss: 53.7840\n",
      "Epoch 63/100\n",
      "907/907 [==============================] - 4s 5ms/step - loss: 53.6023 - val_loss: 54.5335\n",
      "Epoch 64/100\n",
      "907/907 [==============================] - 4s 5ms/step - loss: 53.5396 - val_loss: 54.5061\n",
      "Epoch 65/100\n",
      "907/907 [==============================] - 4s 5ms/step - loss: 53.4090 - val_loss: 54.0312\n",
      "Epoch 66/100\n",
      "907/907 [==============================] - 4s 5ms/step - loss: 53.5700 - val_loss: 53.8450\n",
      "Epoch 67/100\n",
      "907/907 [==============================] - 4s 5ms/step - loss: 53.7156 - val_loss: 53.7094\n",
      "Epoch 68/100\n",
      "907/907 [==============================] - 4s 5ms/step - loss: 53.2410 - val_loss: 54.1838\n",
      "Epoch 69/100\n",
      "907/907 [==============================] - 5s 5ms/step - loss: 53.3614 - val_loss: 54.0769\n",
      "Epoch 70/100\n",
      "907/907 [==============================] - 4s 5ms/step - loss: 53.3750 - val_loss: 53.7101\n",
      "Epoch 71/100\n",
      "907/907 [==============================] - 4s 5ms/step - loss: 53.3819 - val_loss: 53.8087\n",
      "Epoch 72/100\n",
      "907/907 [==============================] - 4s 5ms/step - loss: 53.4702 - val_loss: 53.9075\n",
      "Epoch 73/100\n",
      "907/907 [==============================] - 4s 5ms/step - loss: 53.1787 - val_loss: 53.8299\n",
      "Epoch 74/100\n",
      "907/907 [==============================] - 4s 5ms/step - loss: 53.0861 - val_loss: 53.7049\n",
      "Epoch 75/100\n",
      "907/907 [==============================] - 4s 5ms/step - loss: 53.4057 - val_loss: 53.9916\n",
      "Epoch 76/100\n",
      "907/907 [==============================] - 4s 5ms/step - loss: 53.0295 - val_loss: 53.7260\n",
      "Epoch 77/100\n",
      "907/907 [==============================] - 4s 5ms/step - loss: 53.2048 - val_loss: 53.7382\n",
      "Epoch 78/100\n",
      "907/907 [==============================] - 4s 5ms/step - loss: 53.1860 - val_loss: 54.6387\n",
      "Epoch 79/100\n",
      "907/907 [==============================] - 4s 5ms/step - loss: 53.1474 - val_loss: 54.2648\n",
      "Epoch 80/100\n",
      "907/907 [==============================] - 4s 5ms/step - loss: 53.0518 - val_loss: 53.8399\n",
      "Epoch 81/100\n",
      "907/907 [==============================] - 4s 5ms/step - loss: 52.6812 - val_loss: 54.1018\n",
      "Epoch 82/100\n",
      "907/907 [==============================] - 4s 5ms/step - loss: 52.9475 - val_loss: 53.8455\n",
      "Epoch 83/100\n",
      "907/907 [==============================] - 4s 5ms/step - loss: 52.8495 - val_loss: 53.9230\n",
      "Epoch 84/100\n",
      "907/907 [==============================] - 4s 5ms/step - loss: 52.8370 - val_loss: 54.1909\n",
      "Epoch 85/100\n",
      "907/907 [==============================] - 4s 5ms/step - loss: 52.9777 - val_loss: 53.8933\n",
      "Epoch 86/100\n",
      "907/907 [==============================] - 4s 5ms/step - loss: 52.7110 - val_loss: 54.6352\n",
      "Epoch 87/100\n",
      "907/907 [==============================] - 4s 5ms/step - loss: 52.6606 - val_loss: 53.7607\n",
      "Epoch 88/100\n",
      "907/907 [==============================] - 4s 5ms/step - loss: 52.7756 - val_loss: 54.3607\n",
      "Epoch 89/100\n",
      "907/907 [==============================] - 4s 5ms/step - loss: 52.5580 - val_loss: 53.9326\n",
      "Epoch 90/100\n",
      "907/907 [==============================] - 5s 5ms/step - loss: 52.6660 - val_loss: 53.7059\n",
      "Epoch 91/100\n",
      "907/907 [==============================] - 4s 5ms/step - loss: 52.8204 - val_loss: 54.0568\n",
      "Epoch 92/100\n",
      "907/907 [==============================] - 4s 5ms/step - loss: 52.6517 - val_loss: 53.9225\n",
      "Epoch 93/100\n",
      "907/907 [==============================] - 4s 5ms/step - loss: 52.7068 - val_loss: 53.7265\n",
      "Epoch 94/100\n",
      "907/907 [==============================] - 4s 5ms/step - loss: 52.5071 - val_loss: 54.2178\n",
      "Epoch 95/100\n",
      "907/907 [==============================] - 4s 5ms/step - loss: 52.6884 - val_loss: 54.0306\n",
      "Epoch 96/100\n",
      "907/907 [==============================] - 4s 5ms/step - loss: 52.7577 - val_loss: 54.1324\n",
      "Epoch 97/100\n",
      "907/907 [==============================] - 4s 5ms/step - loss: 52.4188 - val_loss: 54.2405\n",
      "Epoch 98/100\n",
      "907/907 [==============================] - 5s 5ms/step - loss: 52.3127 - val_loss: 54.3458\n",
      "Epoch 99/100\n",
      "907/907 [==============================] - 4s 5ms/step - loss: 52.4376 - val_loss: 54.0494\n",
      "Epoch 100/100\n",
      "907/907 [==============================] - 4s 5ms/step - loss: 52.0972 - val_loss: 53.8655\n"
     ]
    }
   ],
   "source": [
    "history = model.fit(X_train, y_train, epochs=100, batch_size=32, validation_split=0.1, verbose=1)"
   ]
  },
  {
   "cell_type": "code",
   "execution_count": 48,
   "id": "1b0ee51d-4c42-4bd1-8edb-3c3bfe436c8c",
   "metadata": {
    "tags": []
   },
   "outputs": [
    {
     "name": "stdout",
     "output_type": "stream",
     "text": [
      "252/252 [==============================] - 1s 2ms/step - loss: 52.8474\n",
      "Test Loss: 52.847373962402344\n"
     ]
    }
   ],
   "source": [
    "test_loss = model.evaluate(X_test, y_test)\n",
    "print('Test Loss:', test_loss)\n"
   ]
  },
  {
   "cell_type": "code",
   "execution_count": 49,
   "id": "ee4c60f4-015f-4bb0-b180-2d36ba076a3f",
   "metadata": {
    "tags": []
   },
   "outputs": [
    {
     "name": "stdout",
     "output_type": "stream",
     "text": [
      "252/252 [==============================] - 1s 2ms/step\n"
     ]
    }
   ],
   "source": [
    "predictions = model.predict(X_test)"
   ]
  },
  {
   "cell_type": "code",
   "execution_count": 50,
   "id": "afdc724c-b1b0-4e8b-9262-d8d4dc5e17a4",
   "metadata": {
    "tags": []
   },
   "outputs": [
    {
     "data": {
      "text/plain": [
       "array([[32.48755 ],\n",
       "       [27.795982],\n",
       "       [30.753117],\n",
       "       ...,\n",
       "       [29.315521],\n",
       "       [32.281384],\n",
       "       [32.63462 ]], dtype=float32)"
      ]
     },
     "execution_count": 50,
     "metadata": {},
     "output_type": "execute_result"
    }
   ],
   "source": [
    "predictions"
   ]
  },
  {
   "cell_type": "code",
   "execution_count": 51,
   "id": "0f3ba14f-1ba7-4578-ad2d-dc83c9741bde",
   "metadata": {
    "tags": []
   },
   "outputs": [
    {
     "data": {
      "text/plain": [
       "array([27.1745267 , 27.90357925, 24.1794799 , ..., 24.65051903,\n",
       "       39.23265306, 21.43902536])"
      ]
     },
     "execution_count": 51,
     "metadata": {},
     "output_type": "execute_result"
    }
   ],
   "source": [
    "y_test"
   ]
  },
  {
   "cell_type": "code",
   "execution_count": 53,
   "id": "3134c973-4dd4-438b-942a-2adbbbcd0d15",
   "metadata": {
    "tags": []
   },
   "outputs": [
    {
     "data": {
      "image/png": "[encoded data removed]",
      "text/plain": [
       "<Figure size 640x480 with 1 Axes>"
      ]
     },
     "metadata": {},
     "output_type": "display_data"
    }
   ],
   "source": [
    "import matplotlib.pyplot as plt\n",
    "\n",
    "# Assuming 'history' is the output of the model.fit() process\n",
    "plt.plot(history.history['loss'], label='Training loss')\n",
    "plt.plot(history.history['val_loss'], label='Validation loss')\n",
    "plt.title('Model Loss Over Epochs')\n",
    "plt.ylabel('Loss')\n",
    "plt.xlabel('Epoch')\n",
    "plt.legend()\n",
    "plt.show()\n"
   ]
  },
  {
   "cell_type": "code",
   "execution_count": 56,
   "id": "5c55eddc-e78c-42dc-b083-7321e05728de",
   "metadata": {
    "tags": []
   },
   "outputs": [
    {
     "data": {
      "image/png": "[encoded data removed]",
      "text/plain": [
       "<Figure size 640x480 with 1 Axes>"
      ]
     },
     "metadata": {},
     "output_type": "display_data"
    }
   ],
   "source": [
    "import matplotlib.pyplot as plt\n",
    "\n",
    "# Scatter plot of actual vs. predicted values\n",
    "plt.scatter(y_test, predictions, alpha=0.5)  # alpha for transparency\n",
    "\n",
    "# Add the y=x line\n",
    "plt.plot([y_test.min(), y_test.max()], [y_test.min(), y_test.max()], 'k--', lw=2)\n",
    "# 'k--' indicates a black dashed line and 'lw' is the line width\n",
    "\n",
    "plt.title('Actual vs. Predicted Values')\n",
    "plt.xlabel('Actual Values')\n",
    "plt.ylabel('Predicted Values')\n",
    "plt.show()\n",
    "\n"
   ]
  },
  {
   "cell_type": "code",
   "execution_count": null,
   "id": "5f2c8741-9e35-431c-9a8a-98fed3616b50",
   "metadata": {},
   "outputs": [],
   "source": []
  }
 ],
 "metadata": {
  "availableInstances": [
   {
    "_defaultOrder": 0,
    "_isFastLaunch": true,
    "category": "General purpose",
    "gpuNum": 0,
    "hideHardwareSpecs": false,
    "memoryGiB": 4,
    "name": "ml.t3.medium",
    "vcpuNum": 2
   },
   {
    "_defaultOrder": 1,
    "_isFastLaunch": false,
    "category": "General purpose",
    "gpuNum": 0,
    "hideHardwareSpecs": false,
    "memoryGiB": 8,
    "name": "ml.t3.large",
    "vcpuNum": 2
   },
   {
    "_defaultOrder": 2,
    "_isFastLaunch": false,
    "category": "General purpose",
    "gpuNum": 0,
    "hideHardwareSpecs": false,
    "memoryGiB": 16,
    "name": "ml.t3.xlarge",
    "vcpuNum": 4
   },
   {
    "_defaultOrder": 3,
    "_isFastLaunch": false,
    "category": "General purpose",
    "gpuNum": 0,
    "hideHardwareSpecs": false,
    "memoryGiB": 32,
    "name": "ml.t3.2xlarge",
    "vcpuNum": 8
   },
   {
    "_defaultOrder": 4,
    "_isFastLaunch": true,
    "category": "General purpose",
    "gpuNum": 0,
    "hideHardwareSpecs": false,
    "memoryGiB": 8,
    "name": "ml.m5.large",
    "vcpuNum": 2
   },
   {
    "_defaultOrder": 5,
    "_isFastLaunch": false,
    "category": "General purpose",
    "gpuNum": 0,
    "hideHardwareSpecs": false,
    "memoryGiB": 16,
    "name": "ml.m5.xlarge",
    "vcpuNum": 4
   },
   {
    "_defaultOrder": 6,
    "_isFastLaunch": false,
    "category": "General purpose",
    "gpuNum": 0,
    "hideHardwareSpecs": false,
    "memoryGiB": 32,
    "name": "ml.m5.2xlarge",
    "vcpuNum": 8
   },
   {
    "_defaultOrder": 7,
    "_isFastLaunch": false,
    "category": "General purpose",
    "gpuNum": 0,
    "hideHardwareSpecs": false,
    "memoryGiB": 64,
    "name": "ml.m5.4xlarge",
    "vcpuNum": 16
   },
   {
    "_defaultOrder": 8,
    "_isFastLaunch": false,
    "category": "General purpose",
    "gpuNum": 0,
    "hideHardwareSpecs": false,
    "memoryGiB": 128,
    "name": "ml.m5.8xlarge",
    "vcpuNum": 32
   },
   {
    "_defaultOrder": 9,
    "_isFastLaunch": false,
    "category": "General purpose",
    "gpuNum": 0,
    "hideHardwareSpecs": false,
    "memoryGiB": 192,
    "name": "ml.m5.12xlarge",
    "vcpuNum": 48
   },
   {
    "_defaultOrder": 10,
    "_isFastLaunch": false,
    "category": "General purpose",
    "gpuNum": 0,
    "hideHardwareSpecs": false,
    "memoryGiB": 256,
    "name": "ml.m5.16xlarge",
    "vcpuNum": 64
   },
   {
    "_defaultOrder": 11,
    "_isFastLaunch": false,
    "category": "General purpose",
    "gpuNum": 0,
    "hideHardwareSpecs": false,
    "memoryGiB": 384,
    "name": "ml.m5.24xlarge",
    "vcpuNum": 96
   },
   {
    "_defaultOrder": 12,
    "_isFastLaunch": false,
    "category": "General purpose",
    "gpuNum": 0,
    "hideHardwareSpecs": false,
    "memoryGiB": 8,
    "name": "ml.m5d.large",
    "vcpuNum": 2
   },
   {
    "_defaultOrder": 13,
    "_isFastLaunch": false,
    "category": "General purpose",
    "gpuNum": 0,
    "hideHardwareSpecs": false,
    "memoryGiB": 16,
    "name": "ml.m5d.xlarge",
    "vcpuNum": 4
   },
   {
    "_defaultOrder": 14,
    "_isFastLaunch": false,
    "category": "General purpose",
    "gpuNum": 0,
    "hideHardwareSpecs": false,
    "memoryGiB": 32,
    "name": "ml.m5d.2xlarge",
    "vcpuNum": 8
   },
   {
    "_defaultOrder": 15,
    "_isFastLaunch": false,
    "category": "General purpose",
    "gpuNum": 0,
    "hideHardwareSpecs": false,
    "memoryGiB": 64,
    "name": "ml.m5d.4xlarge",
    "vcpuNum": 16
   },
   {
    "_defaultOrder": 16,
    "_isFastLaunch": false,
    "category": "General purpose",
    "gpuNum": 0,
    "hideHardwareSpecs": false,
    "memoryGiB": 128,
    "name": "ml.m5d.8xlarge",
    "vcpuNum": 32
   },
   {
    "_defaultOrder": 17,
    "_isFastLaunch": false,
    "category": "General purpose",
    "gpuNum": 0,
    "hideHardwareSpecs": false,
    "memoryGiB": 192,
    "name": "ml.m5d.12xlarge",
    "vcpuNum": 48
   },
   {
    "_defaultOrder": 18,
    "_isFastLaunch": false,
    "category": "General purpose",
    "gpuNum": 0,
    "hideHardwareSpecs": false,
    "memoryGiB": 256,
    "name": "ml.m5d.16xlarge",
    "vcpuNum": 64
   },
   {
    "_defaultOrder": 19,
    "_isFastLaunch": false,
    "category": "General purpose",
    "gpuNum": 0,
    "hideHardwareSpecs": false,
    "memoryGiB": 384,
    "name": "ml.m5d.24xlarge",
    "vcpuNum": 96
   },
   {
    "_defaultOrder": 20,
    "_isFastLaunch": false,
    "category": "General purpose",
    "gpuNum": 0,
    "hideHardwareSpecs": true,
    "memoryGiB": 0,
    "name": "ml.geospatial.interactive",
    "supportedImageNames": [
     "sagemaker-geospatial-v1-0"
    ],
    "vcpuNum": 0
   },
   {
    "_defaultOrder": 21,
    "_isFastLaunch": true,
    "category": "Compute optimized",
    "gpuNum": 0,
    "hideHardwareSpecs": false,
    "memoryGiB": 4,
    "name": "ml.c5.large",
    "vcpuNum": 2
   },
   {
    "_defaultOrder": 22,
    "_isFastLaunch": false,
    "category": "Compute optimized",
    "gpuNum": 0,
    "hideHardwareSpecs": false,
    "memoryGiB": 8,
    "name": "ml.c5.xlarge",
    "vcpuNum": 4
   },
   {
    "_defaultOrder": 23,
    "_isFastLaunch": false,
    "category": "Compute optimized",
    "gpuNum": 0,
    "hideHardwareSpecs": false,
    "memoryGiB": 16,
    "name": "ml.c5.2xlarge",
    "vcpuNum": 8
   },
   {
    "_defaultOrder": 24,
    "_isFastLaunch": false,
    "category": "Compute optimized",
    "gpuNum": 0,
    "hideHardwareSpecs": false,
    "memoryGiB": 32,
    "name": "ml.c5.4xlarge",
    "vcpuNum": 16
   },
   {
    "_defaultOrder": 25,
    "_isFastLaunch": false,
    "category": "Compute optimized",
    "gpuNum": 0,
    "hideHardwareSpecs": false,
    "memoryGiB": 72,
    "name": "ml.c5.9xlarge",
    "vcpuNum": 36
   },
   {
    "_defaultOrder": 26,
    "_isFastLaunch": false,
    "category": "Compute optimized",
    "gpuNum": 0,
    "hideHardwareSpecs": false,
    "memoryGiB": 96,
    "name": "ml.c5.12xlarge",
    "vcpuNum": 48
   },
   {
    "_defaultOrder": 27,
    "_isFastLaunch": false,
    "category": "Compute optimized",
    "gpuNum": 0,
    "hideHardwareSpecs": false,
    "memoryGiB": 144,
    "name": "ml.c5.18xlarge",
    "vcpuNum": 72
   },
   {
    "_defaultOrder": 28,
    "_isFastLaunch": false,
    "category": "Compute optimized",
    "gpuNum": 0,
    "hideHardwareSpecs": false,
    "memoryGiB": 192,
    "name": "ml.c5.24xlarge",
    "vcpuNum": 96
   },
   {
    "_defaultOrder": 29,
    "_isFastLaunch": true,
    "category": "Accelerated computing",
    "gpuNum": 1,
    "hideHardwareSpecs": false,
    "memoryGiB": 16,
    "name": "ml.g4dn.xlarge",
    "vcpuNum": 4
   },
   {
    "_defaultOrder": 30,
    "_isFastLaunch": false,
    "category": "Accelerated computing",
    "gpuNum": 1,
    "hideHardwareSpecs": false,
    "memoryGiB": 32,
    "name": "ml.g4dn.2xlarge",
    "vcpuNum": 8
   },
   {
    "_defaultOrder": 31,
    "_isFastLaunch": false,
    "category": "Accelerated computing",
    "gpuNum": 1,
    "hideHardwareSpecs": false,
    "memoryGiB": 64,
    "name": "ml.g4dn.4xlarge",
    "vcpuNum": 16
   },
   {
    "_defaultOrder": 32,
    "_isFastLaunch": false,
    "category": "Accelerated computing",
    "gpuNum": 1,
    "hideHardwareSpecs": false,
    "memoryGiB": 128,
    "name": "ml.g4dn.8xlarge",
    "vcpuNum": 32
   },
   {
    "_defaultOrder": 33,
    "_isFastLaunch": false,
    "category": "Accelerated computing",
    "gpuNum": 4,
    "hideHardwareSpecs": false,
    "memoryGiB": 192,
    "name": "ml.g4dn.12xlarge",
    "vcpuNum": 48
   },
   {
    "_defaultOrder": 34,
    "_isFastLaunch": false,
    "category": "Accelerated computing",
    "gpuNum": 1,
    "hideHardwareSpecs": false,
    "memoryGiB": 256,
    "name": "ml.g4dn.16xlarge",
    "vcpuNum": 64
   },
   {
    "_defaultOrder": 35,
    "_isFastLaunch": false,
    "category": "Accelerated computing",
    "gpuNum": 1,
    "hideHardwareSpecs": false,
    "memoryGiB": 61,
    "name": "ml.p3.2xlarge",
    "vcpuNum": 8
   },
   {
    "_defaultOrder": 36,
    "_isFastLaunch": false,
    "category": "Accelerated computing",
    "gpuNum": 4,
    "hideHardwareSpecs": false,
    "memoryGiB": 244,
    "name": "ml.p3.8xlarge",
    "vcpuNum": 32
   },
   {
    "_defaultOrder": 37,
    "_isFastLaunch": false,
    "category": "Accelerated computing",
    "gpuNum": 8,
    "hideHardwareSpecs": false,
    "memoryGiB": 488,
    "name": "ml.p3.16xlarge",
    "vcpuNum": 64
   },
   {
    "_defaultOrder": 38,
    "_isFastLaunch": false,
    "category": "Accelerated computing",
    "gpuNum": 8,
    "hideHardwareSpecs": false,
    "memoryGiB": 768,
    "name": "ml.p3dn.24xlarge",
    "vcpuNum": 96
   },
   {
    "_defaultOrder": 39,
    "_isFastLaunch": false,
    "category": "Memory Optimized",
    "gpuNum": 0,
    "hideHardwareSpecs": false,
    "memoryGiB": 16,
    "name": "ml.r5.large",
    "vcpuNum": 2
   },
   {
    "_defaultOrder": 40,
    "_isFastLaunch": false,
    "category": "Memory Optimized",
    "gpuNum": 0,
    "hideHardwareSpecs": false,
    "memoryGiB": 32,
    "name": "ml.r5.xlarge",
    "vcpuNum": 4
   },
   {
    "_defaultOrder": 41,
    "_isFastLaunch": false,
    "category": "Memory Optimized",
    "gpuNum": 0,
    "hideHardwareSpecs": false,
    "memoryGiB": 64,
    "name": "ml.r5.2xlarge",
    "vcpuNum": 8
   },
   {
    "_defaultOrder": 42,
    "_isFastLaunch": false,
    "category": "Memory Optimized",
    "gpuNum": 0,
    "hideHardwareSpecs": false,
    "memoryGiB": 128,
    "name": "ml.r5.4xlarge",
    "vcpuNum": 16
   },
   {
    "_defaultOrder": 43,
    "_isFastLaunch": false,
    "category": "Memory Optimized",
    "gpuNum": 0,
    "hideHardwareSpecs": false,
    "memoryGiB": 256,
    "name": "ml.r5.8xlarge",
    "vcpuNum": 32
   },
   {
    "_defaultOrder": 44,
    "_isFastLaunch": false,
    "category": "Memory Optimized",
    "gpuNum": 0,
    "hideHardwareSpecs": false,
    "memoryGiB": 384,
    "name": "ml.r5.12xlarge",
    "vcpuNum": 48
   },
   {
    "_defaultOrder": 45,
    "_isFastLaunch": false,
    "category": "Memory Optimized",
    "gpuNum": 0,
    "hideHardwareSpecs": false,
    "memoryGiB": 512,
    "name": "ml.r5.16xlarge",
    "vcpuNum": 64
   },
   {
    "_defaultOrder": 46,
    "_isFastLaunch": false,
    "category": "Memory Optimized",
    "gpuNum": 0,
    "hideHardwareSpecs": false,
    "memoryGiB": 768,
    "name": "ml.r5.24xlarge",
    "vcpuNum": 96
   },
   {
    "_defaultOrder": 47,
    "_isFastLaunch": false,
    "category": "Accelerated computing",
    "gpuNum": 1,
    "hideHardwareSpecs": false,
    "memoryGiB": 16,
    "name": "ml.g5.xlarge",
    "vcpuNum": 4
   },
   {
    "_defaultOrder": 48,
    "_isFastLaunch": false,
    "category": "Accelerated computing",
    "gpuNum": 1,
    "hideHardwareSpecs": false,
    "memoryGiB": 32,
    "name": "ml.g5.2xlarge",
    "vcpuNum": 8
   },
   {
    "_defaultOrder": 49,
    "_isFastLaunch": false,
    "category": "Accelerated computing",
    "gpuNum": 1,
    "hideHardwareSpecs": false,
    "memoryGiB": 64,
    "name": "ml.g5.4xlarge",
    "vcpuNum": 16
   },
   {
    "_defaultOrder": 50,
    "_isFastLaunch": false,
    "category": "Accelerated computing",
    "gpuNum": 1,
    "hideHardwareSpecs": false,
    "memoryGiB": 128,
    "name": "ml.g5.8xlarge",
    "vcpuNum": 32
   },
   {
    "_defaultOrder": 51,
    "_isFastLaunch": false,
    "category": "Accelerated computing",
    "gpuNum": 1,
    "hideHardwareSpecs": false,
    "memoryGiB": 256,
    "name": "ml.g5.16xlarge",
    "vcpuNum": 64
   },
   {
    "_defaultOrder": 52,
    "_isFastLaunch": false,
    "category": "Accelerated computing",
    "gpuNum": 4,
    "hideHardwareSpecs": false,
    "memoryGiB": 192,
    "name": "ml.g5.12xlarge",
    "vcpuNum": 48
   },
   {
    "_defaultOrder": 53,
    "_isFastLaunch": false,
    "category": "Accelerated computing",
    "gpuNum": 4,
    "hideHardwareSpecs": false,
    "memoryGiB": 384,
    "name": "ml.g5.24xlarge",
    "vcpuNum": 96
   },
   {
    "_defaultOrder": 54,
    "_isFastLaunch": false,
    "category": "Accelerated computing",
    "gpuNum": 8,
    "hideHardwareSpecs": false,
    "memoryGiB": 768,
    "name": "ml.g5.48xlarge",
    "vcpuNum": 192
   },
   {
    "_defaultOrder": 55,
    "_isFastLaunch": false,
    "category": "Accelerated computing",
    "gpuNum": 8,
    "hideHardwareSpecs": false,
    "memoryGiB": 1152,
    "name": "ml.p4d.24xlarge",
    "vcpuNum": 96
   },
   {
    "_defaultOrder": 56,
    "_isFastLaunch": false,
    "category": "Accelerated computing",
    "gpuNum": 8,
    "hideHardwareSpecs": false,
    "memoryGiB": 1152,
    "name": "ml.p4de.24xlarge",
    "vcpuNum": 96
   },
   {
    "_defaultOrder": 57,
    "_isFastLaunch": false,
    "category": "Accelerated computing",
    "gpuNum": 0,
    "hideHardwareSpecs": false,
    "memoryGiB": 32,
    "name": "ml.trn1.2xlarge",
    "vcpuNum": 8
   },
   {
    "_defaultOrder": 58,
    "_isFastLaunch": false,
    "category": "Accelerated computing",
    "gpuNum": 0,
    "hideHardwareSpecs": false,
    "memoryGiB": 512,
    "name": "ml.trn1.32xlarge",
    "vcpuNum": 128
   },
   {
    "_defaultOrder": 59,
    "_isFastLaunch": false,
    "category": "Accelerated computing",
    "gpuNum": 0,
    "hideHardwareSpecs": false,
    "memoryGiB": 512,
    "name": "ml.trn1n.32xlarge",
    "vcpuNum": 128
   }
  ],
  "instance_type": "ml.g4dn.xlarge",
  "kernelspec": {
   "display_name": "Python 3 (TensorFlow 2.11.0 Python 3.9 GPU Optimized)",
   "language": "python",
   "name": "python3__SAGEMAKER_INTERNAL__arn:aws:sagemaker:us-east-1:081325390199:image/tensorflow-2.11.0-gpu-py39-cu112-ubuntu20.04-sagemaker-v1.1"
  },
  "language_info": {
   "codemirror_mode": {
    "name": "ipython",
    "version": 3
   },
   "file_extension": ".py",
   "mimetype": "text/x-python",
   "name": "python",
   "nbconvert_exporter": "python",
   "pygments_lexer": "ipython3",
   "version": "3.9.10"
  }
 },
 "nbformat": 4,
 "nbformat_minor": 5
}

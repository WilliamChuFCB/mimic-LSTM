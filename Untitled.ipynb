{
 "cells": [
  {
   "cell_type": "code",
   "execution_count": 5,
   "id": "e4c3ca58",
   "metadata": {},
   "outputs": [],
   "source": [
    "import os\n",
    "\n",
    "import numpy as np\n",
    "import pandas as pd\n",
    "import matplotlib.pyplot as plt\n",
    "from sklearn.ensemble import RandomForestClassifier\n",
    "from sklearn.metrics import precision_recall_fscore_support\n",
    "\n",
    "from pulearn import (\n",
    "    ElkanotoPuClassifier,\n",
    "    # WeightedElkanotoPuClassifier,\n",
    ")\n"
   ]
  },
  {
   "cell_type": "code",
   "execution_count": 7,
   "id": "f6114731",
   "metadata": {},
   "outputs": [
    {
     "name": "stderr",
     "output_type": "stream",
     "text": [
      "/var/folders/n3/040l4b2x00d4lx6_72b_w75h0000gn/T/ipykernel_9040/1542545857.py:1: DtypeWarning: Columns (18,19,20,21,22,23,24,26) have mixed types. Specify dtype option on import or set low_memory=False.\n",
      "  df = pd.read_csv('./processed_data/mimic3+4_with_and_without_bmi_with_gender_with_time_20231212.csv')\n"
     ]
    }
   ],
   "source": [
    "df = pd.read_csv('./processed_data/mimic3+4_with_and_without_bmi_with_gender_with_time_20231212.csv')"
   ]
  },
  {
   "cell_type": "code",
   "execution_count": 9,
   "id": "0fcb1932",
   "metadata": {},
   "outputs": [
    {
     "data": {
      "text/plain": [
       "subject_id                  int64\n",
       "hadm_id                   float64\n",
       "systolic                  float64\n",
       "diastolic                 float64\n",
       "glucose                   float64\n",
       "triglycerides             float64\n",
       "cholesterol               float64\n",
       "hemoglobin_chart          float64\n",
       "hemoglobin_lab            float64\n",
       "hemoglobin_any            float64\n",
       "insulin                   float64\n",
       "hemoglobina1c             float64\n",
       "TyG                       float64\n",
       "crp                       float64\n",
       "hypertension               object\n",
       "hypertension_drugs        float64\n",
       "diabetes                   object\n",
       "bmi                       float64\n",
       "bmi_category               object\n",
       "glucose_category           object\n",
       "triglycerides_category     object\n",
       "cholesterol_category       object\n",
       "diastolic_category         object\n",
       "systolic_category          object\n",
       "BP_category                object\n",
       "crp_category               object\n",
       "hemoglobina1c_category     object\n",
       "gender                     object\n",
       "admittime                  object\n",
       "dischtime                  object\n",
       "dtype: object"
      ]
     },
     "execution_count": 9,
     "metadata": {},
     "output_type": "execute_result"
    }
   ],
   "source": [
    "df.dtypes"
   ]
  },
  {
   "cell_type": "code",
   "execution_count": 3,
   "id": "04315df1",
   "metadata": {},
   "outputs": [
    {
     "name": "stdout",
     "output_type": "stream",
     "text": [
      "Unexpected exception formatting exception. Falling back to standard exception\n"
     ]
    },
    {
     "name": "stderr",
     "output_type": "stream",
     "text": [
      "Traceback (most recent call last):\n",
      "  File \"/Users/Administrator/anaconda3/lib/python3.11/site-packages/IPython/core/interactiveshell.py\", line 3526, in run_code\n",
      "    exec(code_obj, self.user_global_ns, self.user_ns)\n",
      "  File \"/var/folders/n3/040l4b2x00d4lx6_72b_w75h0000gn/T/ipykernel_9040/412018735.py\", line 1, in <module>\n",
      "    from keras.models import Sequential\n",
      "  File \"/Users/Administrator/anaconda3/lib/python3.11/site-packages/keras/__init__.py\", line 3, in <module>\n",
      "    from keras import __internal__\n",
      "  File \"/Users/Administrator/anaconda3/lib/python3.11/site-packages/keras/__internal__/__init__.py\", line 3, in <module>\n",
      "    from keras.__internal__ import backend\n",
      "  File \"/Users/Administrator/anaconda3/lib/python3.11/site-packages/keras/__internal__/backend/__init__.py\", line 3, in <module>\n",
      "    from keras.src.backend import _initialize_variables as initialize_variables\n",
      "  File \"/Users/Administrator/anaconda3/lib/python3.11/site-packages/keras/src/__init__.py\", line 21, in <module>\n",
      "    from keras.src import applications\n",
      "  File \"/Users/Administrator/anaconda3/lib/python3.11/site-packages/keras/src/applications/__init__.py\", line 41, in <module>\n",
      "    from keras.src.applications.inception_resnet_v2 import InceptionResNetV2\n",
      "  File \"/Users/Administrator/anaconda3/lib/python3.11/site-packages/keras/src/applications/inception_resnet_v2.py\", line 324, in <module>\n",
      "    @keras.utils.register_keras_serializable()\n",
      "     ^^^^^^^^^^^\n",
      "AttributeError: partially initialized module 'keras.src' has no attribute 'utils' (most likely due to a circular import)\n",
      "\n",
      "During handling of the above exception, another exception occurred:\n",
      "\n",
      "Traceback (most recent call last):\n",
      "  File \"/Users/Administrator/anaconda3/lib/python3.11/site-packages/IPython/core/interactiveshell.py\", line 2120, in showtraceback\n",
      "    stb = self.InteractiveTB.structured_traceback(\n",
      "          ^^^^^^^^^^^^^^^^^^^^^^^^^^^^^^^^^^^^^^^^\n",
      "  File \"/Users/Administrator/anaconda3/lib/python3.11/site-packages/IPython/core/ultratb.py\", line 1435, in structured_traceback\n",
      "    return FormattedTB.structured_traceback(\n",
      "           ^^^^^^^^^^^^^^^^^^^^^^^^^^^^^^^^^\n",
      "  File \"/Users/Administrator/anaconda3/lib/python3.11/site-packages/IPython/core/ultratb.py\", line 1326, in structured_traceback\n",
      "    return VerboseTB.structured_traceback(\n",
      "           ^^^^^^^^^^^^^^^^^^^^^^^^^^^^^^^\n",
      "  File \"/Users/Administrator/anaconda3/lib/python3.11/site-packages/IPython/core/ultratb.py\", line 1173, in structured_traceback\n",
      "    formatted_exception = self.format_exception_as_a_whole(etype, evalue, etb, number_of_lines_of_context,\n",
      "                          ^^^^^^^^^^^^^^^^^^^^^^^^^^^^^^^^^^^^^^^^^^^^^^^^^^^^^^^^^^^^^^^^^^^^^^^^^^^^^^^^\n",
      "  File \"/Users/Administrator/anaconda3/lib/python3.11/site-packages/IPython/core/ultratb.py\", line 1088, in format_exception_as_a_whole\n",
      "    frames.append(self.format_record(record))\n",
      "                  ^^^^^^^^^^^^^^^^^^^^^^^^^^\n",
      "  File \"/Users/Administrator/anaconda3/lib/python3.11/site-packages/IPython/core/ultratb.py\", line 970, in format_record\n",
      "    frame_info.lines, Colors, self.has_colors, lvals\n",
      "    ^^^^^^^^^^^^^^^^\n",
      "  File \"/Users/Administrator/anaconda3/lib/python3.11/site-packages/IPython/core/ultratb.py\", line 792, in lines\n",
      "    return self._sd.lines\n",
      "           ^^^^^^^^^^^^^^\n",
      "  File \"/Users/Administrator/anaconda3/lib/python3.11/site-packages/stack_data/utils.py\", line 145, in cached_property_wrapper\n",
      "    value = obj.__dict__[self.func.__name__] = self.func(obj)\n",
      "                                               ^^^^^^^^^^^^^^\n",
      "  File \"/Users/Administrator/anaconda3/lib/python3.11/site-packages/stack_data/core.py\", line 698, in lines\n",
      "    pieces = self.included_pieces\n",
      "             ^^^^^^^^^^^^^^^^^^^^\n",
      "  File \"/Users/Administrator/anaconda3/lib/python3.11/site-packages/stack_data/utils.py\", line 145, in cached_property_wrapper\n",
      "    value = obj.__dict__[self.func.__name__] = self.func(obj)\n",
      "                                               ^^^^^^^^^^^^^^\n",
      "  File \"/Users/Administrator/anaconda3/lib/python3.11/site-packages/stack_data/core.py\", line 649, in included_pieces\n",
      "    pos = scope_pieces.index(self.executing_piece)\n",
      "                             ^^^^^^^^^^^^^^^^^^^^\n",
      "  File \"/Users/Administrator/anaconda3/lib/python3.11/site-packages/stack_data/utils.py\", line 145, in cached_property_wrapper\n",
      "    value = obj.__dict__[self.func.__name__] = self.func(obj)\n",
      "                                               ^^^^^^^^^^^^^^\n",
      "  File \"/Users/Administrator/anaconda3/lib/python3.11/site-packages/stack_data/core.py\", line 628, in executing_piece\n",
      "    return only(\n",
      "           ^^^^^\n",
      "  File \"/Users/Administrator/anaconda3/lib/python3.11/site-packages/executing/executing.py\", line 164, in only\n",
      "    raise NotOneValueFound('Expected one value, found 0')\n",
      "executing.executing.NotOneValueFound: Expected one value, found 0\n"
     ]
    }
   ],
   "source": [
    "from keras.models import Sequential"
   ]
  },
  {
   "cell_type": "code",
   "execution_count": 4,
   "id": "7ccedad0",
   "metadata": {},
   "outputs": [
    {
     "name": "stdout",
     "output_type": "stream",
     "text": [
      "Unexpected exception formatting exception. Falling back to standard exception\n"
     ]
    },
    {
     "name": "stderr",
     "output_type": "stream",
     "text": [
      "Traceback (most recent call last):\n",
      "  File \"/Users/Administrator/anaconda3/lib/python3.11/site-packages/IPython/core/interactiveshell.py\", line 3526, in run_code\n",
      "    exec(code_obj, self.user_global_ns, self.user_ns)\n",
      "  File \"/var/folders/n3/040l4b2x00d4lx6_72b_w75h0000gn/T/ipykernel_9040/1639225816.py\", line 1, in <module>\n",
      "    from keras.layers import LSTM, Dense\n",
      "  File \"/Users/Administrator/anaconda3/lib/python3.11/site-packages/keras/__init__.py\", line 3, in <module>\n",
      "    from keras import __internal__\n",
      "  File \"/Users/Administrator/anaconda3/lib/python3.11/site-packages/keras/__internal__/__init__.py\", line 6, in <module>\n",
      "    from keras.__internal__ import models\n",
      "  File \"/Users/Administrator/anaconda3/lib/python3.11/site-packages/keras/__internal__/models/__init__.py\", line 3, in <module>\n",
      "    from keras.src.models.cloning import clone_and_build_model\n",
      "  File \"/Users/Administrator/anaconda3/lib/python3.11/site-packages/keras/src/__init__.py\", line 21, in <module>\n",
      "    from keras.src import applications\n",
      "  File \"/Users/Administrator/anaconda3/lib/python3.11/site-packages/keras/src/applications/__init__.py\", line 41, in <module>\n",
      "    from keras.src.applications.inception_resnet_v2 import InceptionResNetV2\n",
      "  File \"/Users/Administrator/anaconda3/lib/python3.11/site-packages/keras/src/applications/inception_resnet_v2.py\", line 324, in <module>\n",
      "    @keras.utils.register_keras_serializable()\n",
      "     ^^^^^^^^^^^\n",
      "AttributeError: partially initialized module 'keras.src' has no attribute 'utils' (most likely due to a circular import)\n",
      "\n",
      "During handling of the above exception, another exception occurred:\n",
      "\n",
      "Traceback (most recent call last):\n",
      "  File \"/Users/Administrator/anaconda3/lib/python3.11/site-packages/IPython/core/interactiveshell.py\", line 2120, in showtraceback\n",
      "    stb = self.InteractiveTB.structured_traceback(\n",
      "          ^^^^^^^^^^^^^^^^^^^^^^^^^^^^^^^^^^^^^^^^\n",
      "  File \"/Users/Administrator/anaconda3/lib/python3.11/site-packages/IPython/core/ultratb.py\", line 1435, in structured_traceback\n",
      "    return FormattedTB.structured_traceback(\n",
      "           ^^^^^^^^^^^^^^^^^^^^^^^^^^^^^^^^^\n",
      "  File \"/Users/Administrator/anaconda3/lib/python3.11/site-packages/IPython/core/ultratb.py\", line 1326, in structured_traceback\n",
      "    return VerboseTB.structured_traceback(\n",
      "           ^^^^^^^^^^^^^^^^^^^^^^^^^^^^^^^\n",
      "  File \"/Users/Administrator/anaconda3/lib/python3.11/site-packages/IPython/core/ultratb.py\", line 1173, in structured_traceback\n",
      "    formatted_exception = self.format_exception_as_a_whole(etype, evalue, etb, number_of_lines_of_context,\n",
      "                          ^^^^^^^^^^^^^^^^^^^^^^^^^^^^^^^^^^^^^^^^^^^^^^^^^^^^^^^^^^^^^^^^^^^^^^^^^^^^^^^^\n",
      "  File \"/Users/Administrator/anaconda3/lib/python3.11/site-packages/IPython/core/ultratb.py\", line 1088, in format_exception_as_a_whole\n",
      "    frames.append(self.format_record(record))\n",
      "                  ^^^^^^^^^^^^^^^^^^^^^^^^^^\n",
      "  File \"/Users/Administrator/anaconda3/lib/python3.11/site-packages/IPython/core/ultratb.py\", line 970, in format_record\n",
      "    frame_info.lines, Colors, self.has_colors, lvals\n",
      "    ^^^^^^^^^^^^^^^^\n",
      "  File \"/Users/Administrator/anaconda3/lib/python3.11/site-packages/IPython/core/ultratb.py\", line 792, in lines\n",
      "    return self._sd.lines\n",
      "           ^^^^^^^^^^^^^^\n",
      "  File \"/Users/Administrator/anaconda3/lib/python3.11/site-packages/stack_data/utils.py\", line 145, in cached_property_wrapper\n",
      "    value = obj.__dict__[self.func.__name__] = self.func(obj)\n",
      "                                               ^^^^^^^^^^^^^^\n",
      "  File \"/Users/Administrator/anaconda3/lib/python3.11/site-packages/stack_data/core.py\", line 698, in lines\n",
      "    pieces = self.included_pieces\n",
      "             ^^^^^^^^^^^^^^^^^^^^\n",
      "  File \"/Users/Administrator/anaconda3/lib/python3.11/site-packages/stack_data/utils.py\", line 145, in cached_property_wrapper\n",
      "    value = obj.__dict__[self.func.__name__] = self.func(obj)\n",
      "                                               ^^^^^^^^^^^^^^\n",
      "  File \"/Users/Administrator/anaconda3/lib/python3.11/site-packages/stack_data/core.py\", line 649, in included_pieces\n",
      "    pos = scope_pieces.index(self.executing_piece)\n",
      "                             ^^^^^^^^^^^^^^^^^^^^\n",
      "  File \"/Users/Administrator/anaconda3/lib/python3.11/site-packages/stack_data/utils.py\", line 145, in cached_property_wrapper\n",
      "    value = obj.__dict__[self.func.__name__] = self.func(obj)\n",
      "                                               ^^^^^^^^^^^^^^\n",
      "  File \"/Users/Administrator/anaconda3/lib/python3.11/site-packages/stack_data/core.py\", line 628, in executing_piece\n",
      "    return only(\n",
      "           ^^^^^\n",
      "  File \"/Users/Administrator/anaconda3/lib/python3.11/site-packages/executing/executing.py\", line 164, in only\n",
      "    raise NotOneValueFound('Expected one value, found 0')\n",
      "executing.executing.NotOneValueFound: Expected one value, found 0\n"
     ]
    }
   ],
   "source": [
    "from keras.layers import LSTM, Dense"
   ]
  },
  {
   "cell_type": "code",
   "execution_count": null,
   "id": "0bd26d4e",
   "metadata": {},
   "outputs": [],
   "source": []
  }
 ],
 "metadata": {
  "kernelspec": {
   "display_name": "Python 3 (ipykernel)",
   "language": "python",
   "name": "python3"
  },
  "language_info": {
   "codemirror_mode": {
    "name": "ipython",
    "version": 3
   },
   "file_extension": ".py",
   "mimetype": "text/x-python",
   "name": "python",
   "nbconvert_exporter": "python",
   "pygments_lexer": "ipython3",
   "version": "3.11.5"
  }
 },
 "nbformat": 4,
 "nbformat_minor": 5
}
